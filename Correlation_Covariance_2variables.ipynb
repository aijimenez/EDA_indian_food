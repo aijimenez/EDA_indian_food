{
 "cells": [
  {
   "cell_type": "code",
   "execution_count": 1,
   "id": "traditional-motor",
   "metadata": {},
   "outputs": [],
   "source": [
    "import matplotlib.pyplot as plt\n",
    "import numpy as np\n",
    "import seaborn as sns\n",
    "import pandas as pd\n",
    "import statistics # for variance\n",
    "from scipy import stats # calculate trimmed mean\n",
    "\n",
    "pd.set_option('display.max_rows', 426)\n",
    "\n",
    "na_vals = ['-1', 1]\n",
    "indian_food = pd.read_csv(\"indian_food.csv\", na_values=na_vals)\n",
    "indian_food['ingredients'] = indian_food['ingredients'].apply(lambda x: x.lower())"
   ]
  },
  {
   "cell_type": "code",
   "execution_count": 2,
   "id": "flush-analysis",
   "metadata": {},
   "outputs": [
    {
     "data": {
      "text/html": [
       "<div>\n",
       "<style scoped>\n",
       "    .dataframe tbody tr th:only-of-type {\n",
       "        vertical-align: middle;\n",
       "    }\n",
       "\n",
       "    .dataframe tbody tr th {\n",
       "        vertical-align: top;\n",
       "    }\n",
       "\n",
       "    .dataframe thead th {\n",
       "        text-align: right;\n",
       "    }\n",
       "</style>\n",
       "<table border=\"1\" class=\"dataframe\">\n",
       "  <thead>\n",
       "    <tr style=\"text-align: right;\">\n",
       "      <th></th>\n",
       "      <th>name</th>\n",
       "      <th>ingredients</th>\n",
       "      <th>diet</th>\n",
       "      <th>prep_time</th>\n",
       "      <th>cook_time</th>\n",
       "      <th>flavor_profile</th>\n",
       "      <th>course</th>\n",
       "      <th>state</th>\n",
       "      <th>region</th>\n",
       "    </tr>\n",
       "  </thead>\n",
       "  <tbody>\n",
       "    <tr>\n",
       "      <th>0</th>\n",
       "      <td>Balu shahi</td>\n",
       "      <td>maida flour, yogurt, oil, sugar</td>\n",
       "      <td>vegetarian</td>\n",
       "      <td>45.0</td>\n",
       "      <td>25.0</td>\n",
       "      <td>sweet</td>\n",
       "      <td>dessert</td>\n",
       "      <td>West Bengal</td>\n",
       "      <td>East</td>\n",
       "    </tr>\n",
       "    <tr>\n",
       "      <th>1</th>\n",
       "      <td>Boondi</td>\n",
       "      <td>gram flour, ghee, sugar</td>\n",
       "      <td>vegetarian</td>\n",
       "      <td>80.0</td>\n",
       "      <td>30.0</td>\n",
       "      <td>sweet</td>\n",
       "      <td>dessert</td>\n",
       "      <td>Rajasthan</td>\n",
       "      <td>West</td>\n",
       "    </tr>\n",
       "  </tbody>\n",
       "</table>\n",
       "</div>"
      ],
      "text/plain": [
       "         name                      ingredients        diet  prep_time  \\\n",
       "0  Balu shahi  maida flour, yogurt, oil, sugar  vegetarian       45.0   \n",
       "1      Boondi          gram flour, ghee, sugar  vegetarian       80.0   \n",
       "\n",
       "   cook_time flavor_profile   course        state region  \n",
       "0       25.0          sweet  dessert  West Bengal   East  \n",
       "1       30.0          sweet  dessert    Rajasthan   West  "
      ]
     },
     "execution_count": 2,
     "metadata": {},
     "output_type": "execute_result"
    }
   ],
   "source": [
    "indian_food.head(2)"
   ]
  },
  {
   "cell_type": "code",
   "execution_count": 3,
   "id": "comfortable-paraguay",
   "metadata": {},
   "outputs": [
    {
     "data": {
      "text/html": [
       "<div>\n",
       "<style scoped>\n",
       "    .dataframe tbody tr th:only-of-type {\n",
       "        vertical-align: middle;\n",
       "    }\n",
       "\n",
       "    .dataframe tbody tr th {\n",
       "        vertical-align: top;\n",
       "    }\n",
       "\n",
       "    .dataframe thead th {\n",
       "        text-align: right;\n",
       "    }\n",
       "</style>\n",
       "<table border=\"1\" class=\"dataframe\">\n",
       "  <thead>\n",
       "    <tr style=\"text-align: right;\">\n",
       "      <th></th>\n",
       "      <th>prep_time</th>\n",
       "      <th>cook_time</th>\n",
       "    </tr>\n",
       "  </thead>\n",
       "  <tbody>\n",
       "    <tr>\n",
       "      <th>prep_time</th>\n",
       "      <td>5812.70</td>\n",
       "      <td>418.93</td>\n",
       "    </tr>\n",
       "    <tr>\n",
       "      <th>cook_time</th>\n",
       "      <td>418.93</td>\n",
       "      <td>2442.51</td>\n",
       "    </tr>\n",
       "  </tbody>\n",
       "</table>\n",
       "</div>"
      ],
      "text/plain": [
       "           prep_time  cook_time\n",
       "prep_time    5812.70     418.93\n",
       "cook_time     418.93    2442.51"
      ]
     },
     "execution_count": 3,
     "metadata": {},
     "output_type": "execute_result"
    }
   ],
   "source": [
    "round(indian_food.cov(),2)"
   ]
  },
  {
   "cell_type": "code",
   "execution_count": 4,
   "id": "unsigned-queen",
   "metadata": {},
   "outputs": [
    {
     "data": {
      "text/plain": [
       "5812.7025"
      ]
     },
     "execution_count": 4,
     "metadata": {},
     "output_type": "execute_result"
    }
   ],
   "source": [
    "# diagonal of variances\n",
    "(indian_food['prep_time'].std())**2"
   ]
  },
  {
   "cell_type": "code",
   "execution_count": 5,
   "id": "aboriginal-interference",
   "metadata": {},
   "outputs": [
    {
     "data": {
      "text/plain": [
       "2442.5054773693014"
      ]
     },
     "execution_count": 5,
     "metadata": {},
     "output_type": "execute_result"
    }
   ],
   "source": [
    "(indian_food['cook_time'].std())**2"
   ]
  },
  {
   "cell_type": "code",
   "execution_count": 6,
   "id": "intended-pharmaceutical",
   "metadata": {},
   "outputs": [
    {
     "data": {
      "image/png": "[encoded data removed]",
      "text/plain": [
       "<Figure size 360x360 with 6 Axes>"
      ]
     },
     "metadata": {
      "needs_background": "light"
     },
     "output_type": "display_data"
    }
   ],
   "source": [
    "sns.pairplot(indian_food)\n",
    "plt.show()"
   ]
  },
  {
   "cell_type": "code",
   "execution_count": 7,
   "id": "coupled-covering",
   "metadata": {},
   "outputs": [
    {
     "data": {
      "image/png": "[encoded data removed]",
      "text/plain": [
       "<Figure size 432x288 with 2 Axes>"
      ]
     },
     "metadata": {
      "needs_background": "light"
     },
     "output_type": "display_data"
    }
   ],
   "source": [
    "sns.heatmap(round(indian_food.corr(), 3), \n",
    "            cmap='RdBu', \n",
    "            center=0, \n",
    "            vmin=0, vmax=1,\n",
    "            annot=True)\n",
    "\n",
    "plt.title(\"Correlation matrix of the variables in the Indian dishes dataset\", y=1.1)\n",
    "plt.yticks(rotation=360)\n",
    "\n",
    "plt.show()"
   ]
  },
  {
   "cell_type": "code",
   "execution_count": 9,
   "id": "impaired-bennett",
   "metadata": {},
   "outputs": [
    {
     "data": {
      "image/png": "[encoded data removed]",
      "text/plain": [
       "<Figure size 432x288 with 1 Axes>"
      ]
     },
     "metadata": {
      "needs_background": "light"
     },
     "output_type": "display_data"
    }
   ],
   "source": [
    "# use the function regplot to make a scatterplot\n",
    "plt.figure()\n",
    "sns.scatterplot(x=indian_food[\"prep_time\"], y=indian_food[\"cook_time\"])\n",
    "\n",
    "plt.title(\"Scatterplot of preparation and cook time\", fontsize=13, y=1.09, x=0.45) #, loc='left'\n",
    "plt.xlabel(\"Preparation time (in minutes)\")\n",
    "plt.ylabel(\"Cook time (in minutes)\")\n",
    "\n",
    "sns.despine(bottom = False, left = False) # remove frames\n",
    "\n",
    "plt.show()"
   ]
  },
  {
   "cell_type": "markdown",
   "id": "registered-duplicate",
   "metadata": {},
   "source": [
    "### Transformation prep_time"
   ]
  },
  {
   "cell_type": "code",
   "execution_count": 10,
   "id": "daily-receipt",
   "metadata": {},
   "outputs": [
    {
     "data": {
      "text/html": [
       "<div>\n",
       "<style scoped>\n",
       "    .dataframe tbody tr th:only-of-type {\n",
       "        vertical-align: middle;\n",
       "    }\n",
       "\n",
       "    .dataframe tbody tr th {\n",
       "        vertical-align: top;\n",
       "    }\n",
       "\n",
       "    .dataframe thead th {\n",
       "        text-align: right;\n",
       "    }\n",
       "</style>\n",
       "<table border=\"1\" class=\"dataframe\">\n",
       "  <thead>\n",
       "    <tr style=\"text-align: right;\">\n",
       "      <th></th>\n",
       "      <th>name</th>\n",
       "      <th>ingredients</th>\n",
       "      <th>diet</th>\n",
       "      <th>prep_time</th>\n",
       "      <th>cook_time</th>\n",
       "      <th>flavor_profile</th>\n",
       "      <th>course</th>\n",
       "      <th>state</th>\n",
       "      <th>region</th>\n",
       "      <th>log_prep_time</th>\n",
       "    </tr>\n",
       "  </thead>\n",
       "  <tbody>\n",
       "    <tr>\n",
       "      <th>0</th>\n",
       "      <td>Balu shahi</td>\n",
       "      <td>maida flour, yogurt, oil, sugar</td>\n",
       "      <td>vegetarian</td>\n",
       "      <td>45.0</td>\n",
       "      <td>25.0</td>\n",
       "      <td>sweet</td>\n",
       "      <td>dessert</td>\n",
       "      <td>West Bengal</td>\n",
       "      <td>East</td>\n",
       "      <td>1.653213</td>\n",
       "    </tr>\n",
       "    <tr>\n",
       "      <th>1</th>\n",
       "      <td>Boondi</td>\n",
       "      <td>gram flour, ghee, sugar</td>\n",
       "      <td>vegetarian</td>\n",
       "      <td>80.0</td>\n",
       "      <td>30.0</td>\n",
       "      <td>sweet</td>\n",
       "      <td>dessert</td>\n",
       "      <td>Rajasthan</td>\n",
       "      <td>West</td>\n",
       "      <td>1.903090</td>\n",
       "    </tr>\n",
       "  </tbody>\n",
       "</table>\n",
       "</div>"
      ],
      "text/plain": [
       "         name                      ingredients        diet  prep_time  \\\n",
       "0  Balu shahi  maida flour, yogurt, oil, sugar  vegetarian       45.0   \n",
       "1      Boondi          gram flour, ghee, sugar  vegetarian       80.0   \n",
       "\n",
       "   cook_time flavor_profile   course        state region  log_prep_time  \n",
       "0       25.0          sweet  dessert  West Bengal   East       1.653213  \n",
       "1       30.0          sweet  dessert    Rajasthan   West       1.903090  "
      ]
     },
     "execution_count": 10,
     "metadata": {},
     "output_type": "execute_result"
    }
   ],
   "source": [
    "indian_food['log_prep_time'] = np.log10(indian_food['prep_time'])\n",
    "indian_food.head(2)"
   ]
  },
  {
   "cell_type": "code",
   "execution_count": 11,
   "id": "expired-referral",
   "metadata": {},
   "outputs": [
    {
     "data": {
      "image/png": "[encoded data removed]",
      "text/plain": [
       "<Figure size 648x360 with 1 Axes>"
      ]
     },
     "metadata": {
      "needs_background": "light"
     },
     "output_type": "display_data"
    }
   ],
   "source": [
    "plt.figure(figsize=(9,5)) #figsize=(9,5)\n",
    "\n",
    "sns.histplot(indian_food, x=\"log_prep_time\", bins= 15) #, bins= 50\n",
    "\n",
    "plt.title(\"Histogram of the log-transformed preparation time of indian dishes\", fontsize=15, loc='left', y=1.08, x=-0.03)\n",
    "plt.xlabel(\"log(prep_time), where prep_time is in minutes\")\n",
    "plt.ylabel(\"Frecuency\")\n",
    "\n",
    "sns.despine(bottom = False, left = False) # remove frames\n",
    "#plt.xlim(0, 510)\n",
    "\n",
    "plt.show()"
   ]
  },
  {
   "cell_type": "markdown",
   "id": "eastern-tomorrow",
   "metadata": {},
   "source": [
    "### Transformation cook_time"
   ]
  },
  {
   "cell_type": "code",
   "execution_count": 13,
   "id": "modern-gibraltar",
   "metadata": {},
   "outputs": [
    {
     "data": {
      "text/html": [
       "<div>\n",
       "<style scoped>\n",
       "    .dataframe tbody tr th:only-of-type {\n",
       "        vertical-align: middle;\n",
       "    }\n",
       "\n",
       "    .dataframe tbody tr th {\n",
       "        vertical-align: top;\n",
       "    }\n",
       "\n",
       "    .dataframe thead th {\n",
       "        text-align: right;\n",
       "    }\n",
       "</style>\n",
       "<table border=\"1\" class=\"dataframe\">\n",
       "  <thead>\n",
       "    <tr style=\"text-align: right;\">\n",
       "      <th></th>\n",
       "      <th>name</th>\n",
       "      <th>ingredients</th>\n",
       "      <th>diet</th>\n",
       "      <th>prep_time</th>\n",
       "      <th>cook_time</th>\n",
       "      <th>flavor_profile</th>\n",
       "      <th>course</th>\n",
       "      <th>state</th>\n",
       "      <th>region</th>\n",
       "      <th>log_prep_time</th>\n",
       "      <th>log_cook_time</th>\n",
       "    </tr>\n",
       "  </thead>\n",
       "  <tbody>\n",
       "    <tr>\n",
       "      <th>0</th>\n",
       "      <td>Balu shahi</td>\n",
       "      <td>maida flour, yogurt, oil, sugar</td>\n",
       "      <td>vegetarian</td>\n",
       "      <td>45.0</td>\n",
       "      <td>25.0</td>\n",
       "      <td>sweet</td>\n",
       "      <td>dessert</td>\n",
       "      <td>West Bengal</td>\n",
       "      <td>East</td>\n",
       "      <td>1.653213</td>\n",
       "      <td>1.397940</td>\n",
       "    </tr>\n",
       "    <tr>\n",
       "      <th>1</th>\n",
       "      <td>Boondi</td>\n",
       "      <td>gram flour, ghee, sugar</td>\n",
       "      <td>vegetarian</td>\n",
       "      <td>80.0</td>\n",
       "      <td>30.0</td>\n",
       "      <td>sweet</td>\n",
       "      <td>dessert</td>\n",
       "      <td>Rajasthan</td>\n",
       "      <td>West</td>\n",
       "      <td>1.903090</td>\n",
       "      <td>1.477121</td>\n",
       "    </tr>\n",
       "  </tbody>\n",
       "</table>\n",
       "</div>"
      ],
      "text/plain": [
       "         name                      ingredients        diet  prep_time  \\\n",
       "0  Balu shahi  maida flour, yogurt, oil, sugar  vegetarian       45.0   \n",
       "1      Boondi          gram flour, ghee, sugar  vegetarian       80.0   \n",
       "\n",
       "   cook_time flavor_profile   course        state region  log_prep_time  \\\n",
       "0       25.0          sweet  dessert  West Bengal   East       1.653213   \n",
       "1       30.0          sweet  dessert    Rajasthan   West       1.903090   \n",
       "\n",
       "   log_cook_time  \n",
       "0       1.397940  \n",
       "1       1.477121  "
      ]
     },
     "execution_count": 13,
     "metadata": {},
     "output_type": "execute_result"
    }
   ],
   "source": [
    "indian_food['log_cook_time'] = np.log10(indian_food['cook_time'])\n",
    "indian_food.head(2)"
   ]
  },
  {
   "cell_type": "code",
   "execution_count": 14,
   "id": "growing-reproduction",
   "metadata": {},
   "outputs": [
    {
     "data": {
      "image/png": "[encoded data removed]",
      "text/plain": [
       "<Figure size 648x360 with 1 Axes>"
      ]
     },
     "metadata": {
      "needs_background": "light"
     },
     "output_type": "display_data"
    }
   ],
   "source": [
    "plt.figure(figsize=(9,5))\n",
    "\n",
    "sns.histplot(indian_food, x=\"log_cook_time\", bins= 15) #, bins= 15\n",
    "\n",
    "plt.title(\"Histogram of the log-transformed cook time of indian dishes\", fontsize=15, loc='left', y=1.08)\n",
    "plt.xlabel(\"log(cook_time), where cook_time is in minutes\")\n",
    "plt.ylabel(\"Frecuency\")\n",
    "\n",
    "sns.despine(bottom = False, left = False) # remove frames\n",
    "\n",
    "plt.show()"
   ]
  },
  {
   "cell_type": "code",
   "execution_count": 15,
   "id": "quiet-stereo",
   "metadata": {},
   "outputs": [
    {
     "data": {
      "image/png": "[encoded data removed]",
      "text/plain": [
       "<Figure size 432x288 with 1 Axes>"
      ]
     },
     "metadata": {
      "needs_background": "light"
     },
     "output_type": "display_data"
    }
   ],
   "source": [
    "# use the function regplot to make a scatterplot\n",
    "plt.figure()\n",
    "sns.scatterplot(x=indian_food[\"log_prep_time\"], y=indian_food[\"log_cook_time\"])\n",
    "\n",
    "plt.title(\"Scatterplot of log-transformed preparation and cook time\", fontsize=13, y=1.09, x=0.45) #, loc='left'\n",
    "plt.xlabel(\"log(prep_time)\")\n",
    "plt.ylabel(\"log(cook_time)\")\n",
    "\n",
    "sns.despine(bottom = False, left = False) # remove frames\n",
    "\n",
    "plt.show()"
   ]
  },
  {
   "cell_type": "code",
   "execution_count": 18,
   "id": "induced-carolina",
   "metadata": {},
   "outputs": [
    {
     "data": {
      "image/png": "[encoded data removed]",
      "text/plain": [
       "<Figure size 432x288 with 2 Axes>"
      ]
     },
     "metadata": {
      "needs_background": "light"
     },
     "output_type": "display_data"
    }
   ],
   "source": [
    "sns.heatmap(round(indian_food[['log_cook_time', 'log_prep_time']].corr(), 3), \n",
    "            cmap='RdBu', \n",
    "            center=0, \n",
    "            vmin=0, vmax=1,\n",
    "            annot=True)\n",
    "\n",
    "plt.title(\"Correlation matrix of the log-transformed cook_time and prep_time\", y=1.1)\n",
    "plt.yticks(rotation=360)\n",
    "\n",
    "plt.show()"
   ]
  },
  {
   "cell_type": "code",
   "execution_count": null,
   "id": "leading-tuition",
   "metadata": {},
   "outputs": [],
   "source": []
  }
 ],
 "metadata": {
  "kernelspec": {
   "display_name": "Python 3",
   "language": "python",
   "name": "python3"
  },
  "language_info": {
   "codemirror_mode": {
    "name": "ipython",
    "version": 3
   },
   "file_extension": ".py",
   "mimetype": "text/x-python",
   "name": "python",
   "nbconvert_exporter": "python",
   "pygments_lexer": "ipython3",
   "version": "3.7.9"
  }
 },
 "nbformat": 4,
 "nbformat_minor": 5
}
