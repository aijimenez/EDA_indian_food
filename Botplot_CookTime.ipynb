{
 "cells": [
  {
   "cell_type": "code",
   "execution_count": 1,
   "id": "waiting-priority",
   "metadata": {},
   "outputs": [],
   "source": [
    "import matplotlib.pyplot as plt\n",
    "import numpy as np\n",
    "import seaborn as sns\n",
    "import pandas as pd\n",
    "import statistics # for variance\n",
    "from scipy import stats # calculate trimmed mean\n",
    "\n",
    "pd.set_option('display.max_rows', 426)\n",
    "\n",
    "na_vals = ['-1', 1]\n",
    "indian_food = pd.read_csv(\"indian_food.csv\", na_values=na_vals)\n",
    "indian_food['ingredients'] = indian_food['ingredients'].apply(lambda x: x.lower())"
   ]
  },
  {
   "cell_type": "code",
   "execution_count": 2,
   "id": "secondary-captain",
   "metadata": {},
   "outputs": [],
   "source": [
    "indian_food['num_ingr'] = indian_food['ingredients'].apply(lambda x: len(x.split(',')))"
   ]
  },
  {
   "cell_type": "code",
   "execution_count": 3,
   "id": "verified-reaction",
   "metadata": {},
   "outputs": [
    {
     "data": {
      "text/html": [
       "<div>\n",
       "<style scoped>\n",
       "    .dataframe tbody tr th:only-of-type {\n",
       "        vertical-align: middle;\n",
       "    }\n",
       "\n",
       "    .dataframe tbody tr th {\n",
       "        vertical-align: top;\n",
       "    }\n",
       "\n",
       "    .dataframe thead th {\n",
       "        text-align: right;\n",
       "    }\n",
       "</style>\n",
       "<table border=\"1\" class=\"dataframe\">\n",
       "  <thead>\n",
       "    <tr style=\"text-align: right;\">\n",
       "      <th></th>\n",
       "      <th>name</th>\n",
       "      <th>ingredients</th>\n",
       "      <th>diet</th>\n",
       "      <th>prep_time</th>\n",
       "      <th>cook_time</th>\n",
       "      <th>flavor_profile</th>\n",
       "      <th>course</th>\n",
       "      <th>state</th>\n",
       "      <th>region</th>\n",
       "      <th>num_ingr</th>\n",
       "    </tr>\n",
       "  </thead>\n",
       "  <tbody>\n",
       "    <tr>\n",
       "      <th>0</th>\n",
       "      <td>Balu shahi</td>\n",
       "      <td>maida flour, yogurt, oil, sugar</td>\n",
       "      <td>vegetarian</td>\n",
       "      <td>45.0</td>\n",
       "      <td>25.0</td>\n",
       "      <td>sweet</td>\n",
       "      <td>dessert</td>\n",
       "      <td>West Bengal</td>\n",
       "      <td>East</td>\n",
       "      <td>4</td>\n",
       "    </tr>\n",
       "    <tr>\n",
       "      <th>1</th>\n",
       "      <td>Boondi</td>\n",
       "      <td>gram flour, ghee, sugar</td>\n",
       "      <td>vegetarian</td>\n",
       "      <td>80.0</td>\n",
       "      <td>30.0</td>\n",
       "      <td>sweet</td>\n",
       "      <td>dessert</td>\n",
       "      <td>Rajasthan</td>\n",
       "      <td>West</td>\n",
       "      <td>3</td>\n",
       "    </tr>\n",
       "  </tbody>\n",
       "</table>\n",
       "</div>"
      ],
      "text/plain": [
       "         name                      ingredients        diet  prep_time  \\\n",
       "0  Balu shahi  maida flour, yogurt, oil, sugar  vegetarian       45.0   \n",
       "1      Boondi          gram flour, ghee, sugar  vegetarian       80.0   \n",
       "\n",
       "   cook_time flavor_profile   course        state region  num_ingr  \n",
       "0       25.0          sweet  dessert  West Bengal   East         4  \n",
       "1       30.0          sweet  dessert    Rajasthan   West         3  "
      ]
     },
     "execution_count": 3,
     "metadata": {},
     "output_type": "execute_result"
    }
   ],
   "source": [
    "indian_food.head(2)"
   ]
  },
  {
   "cell_type": "code",
   "execution_count": 40,
   "id": "binding-tiffany",
   "metadata": {},
   "outputs": [
    {
     "data": {
      "image/png": "[encoded data removed]",
      "text/plain": [
       "<Figure size 432x288 with 1 Axes>"
      ]
     },
     "metadata": {
      "needs_background": "light"
     },
     "output_type": "display_data"
    }
   ],
   "source": [
    "# Using pandas methods and slicing to determine the order by decreasing median\n",
    "plt.figure()#figsize=(10,8))\n",
    "new_order = indian_food.groupby(by=['region'])['cook_time'].median().iloc[::1].index\n",
    "ax = sns.boxplot(x='region', y='cook_time', data=indian_food, order=new_order, color='#2b8cbe')\n",
    "\n",
    "sns.despine(bottom = False, left = False) #removes frames\n",
    "\n",
    "plt.title('Comparison of cooking times by region', y=1.19, x=0.4, fontsize=15)\n",
    "plt.suptitle('(All data is shown)',  y=1.01, x=0.25)\n",
    "plt.xlabel('Region')\n",
    "plt.ylabel('Cook time (in minutes)')\n",
    "\n",
    "#ax.text(x=5, y=750, s='outlier', fontsize=16, weight='bold')\n",
    "\n",
    "plt.show()"
   ]
  },
  {
   "cell_type": "code",
   "execution_count": 5,
   "id": "republican-scratch",
   "metadata": {},
   "outputs": [
    {
     "data": {
      "text/html": [
       "<div>\n",
       "<style scoped>\n",
       "    .dataframe tbody tr th:only-of-type {\n",
       "        vertical-align: middle;\n",
       "    }\n",
       "\n",
       "    .dataframe tbody tr th {\n",
       "        vertical-align: top;\n",
       "    }\n",
       "\n",
       "    .dataframe thead th {\n",
       "        text-align: right;\n",
       "    }\n",
       "</style>\n",
       "<table border=\"1\" class=\"dataframe\">\n",
       "  <thead>\n",
       "    <tr style=\"text-align: right;\">\n",
       "      <th></th>\n",
       "      <th>name</th>\n",
       "      <th>ingredients</th>\n",
       "      <th>diet</th>\n",
       "      <th>prep_time</th>\n",
       "      <th>cook_time</th>\n",
       "      <th>flavor_profile</th>\n",
       "      <th>course</th>\n",
       "      <th>state</th>\n",
       "      <th>region</th>\n",
       "      <th>num_ingr</th>\n",
       "    </tr>\n",
       "  </thead>\n",
       "  <tbody>\n",
       "    <tr>\n",
       "      <th>62</th>\n",
       "      <td>Shrikhand</td>\n",
       "      <td>curd, sugar, saffron, cardamom</td>\n",
       "      <td>vegetarian</td>\n",
       "      <td>10.0</td>\n",
       "      <td>720.0</td>\n",
       "      <td>sweet</td>\n",
       "      <td>dessert</td>\n",
       "      <td>Maharashtra</td>\n",
       "      <td>West</td>\n",
       "      <td>4</td>\n",
       "    </tr>\n",
       "  </tbody>\n",
       "</table>\n",
       "</div>"
      ],
      "text/plain": [
       "         name                     ingredients        diet  prep_time  \\\n",
       "62  Shrikhand  curd, sugar, saffron, cardamom  vegetarian       10.0   \n",
       "\n",
       "    cook_time flavor_profile   course        state region  num_ingr  \n",
       "62      720.0          sweet  dessert  Maharashtra   West         4  "
      ]
     },
     "execution_count": 5,
     "metadata": {},
     "output_type": "execute_result"
    }
   ],
   "source": [
    "indian_food[indian_food['cook_time'] == 720]"
   ]
  },
  {
   "cell_type": "code",
   "execution_count": 6,
   "id": "frank-devon",
   "metadata": {},
   "outputs": [],
   "source": [
    "no_720 = (indian_food['cook_time'] == 720)\n",
    "cook_time = indian_food.loc[~no_720]"
   ]
  },
  {
   "cell_type": "code",
   "execution_count": 37,
   "id": "cardiac-exemption",
   "metadata": {},
   "outputs": [
    {
     "data": {
      "image/png": "[encoded data removed]",
      "text/plain": [
       "<Figure size 432x288 with 1 Axes>"
      ]
     },
     "metadata": {
      "needs_background": "light"
     },
     "output_type": "display_data"
    }
   ],
   "source": [
    "# Using pandas methods and slicing to determine the order by decreasing median\n",
    "plt.figure()#figsize=(10,8))\n",
    "new_order = cook_time.groupby(by=['region'])['cook_time'].median().iloc[::1].index\n",
    "sns.boxplot(x='region', y='cook_time', data=cook_time, order=new_order, color='#2b8cbe')\n",
    "\n",
    "sns.despine(bottom = False, left = False) #removes frames\n",
    "\n",
    "plt.title('Comparison of cooking times by region', y=1.19, x=0.4, fontsize=15)\n",
    "plt.suptitle('(One outlier is not shown)',  y=1.01, x=0.3)\n",
    "plt.xlabel('Region')\n",
    "plt.ylabel('Cook time (in minutes)')\n",
    "\n",
    "plt.show()"
   ]
  },
  {
   "cell_type": "code",
   "execution_count": 8,
   "id": "extra-cemetery",
   "metadata": {},
   "outputs": [
    {
     "data": {
      "text/html": [
       "<div>\n",
       "<style scoped>\n",
       "    .dataframe tbody tr th:only-of-type {\n",
       "        vertical-align: middle;\n",
       "    }\n",
       "\n",
       "    .dataframe tbody tr th {\n",
       "        vertical-align: top;\n",
       "    }\n",
       "\n",
       "    .dataframe thead th {\n",
       "        text-align: right;\n",
       "    }\n",
       "</style>\n",
       "<table border=\"1\" class=\"dataframe\">\n",
       "  <thead>\n",
       "    <tr style=\"text-align: right;\">\n",
       "      <th></th>\n",
       "      <th>count</th>\n",
       "      <th>mean</th>\n",
       "      <th>std</th>\n",
       "      <th>min</th>\n",
       "      <th>25%</th>\n",
       "      <th>50%</th>\n",
       "      <th>75%</th>\n",
       "      <th>max</th>\n",
       "    </tr>\n",
       "    <tr>\n",
       "      <th>region</th>\n",
       "      <th></th>\n",
       "      <th></th>\n",
       "      <th></th>\n",
       "      <th></th>\n",
       "      <th></th>\n",
       "      <th></th>\n",
       "      <th></th>\n",
       "      <th></th>\n",
       "    </tr>\n",
       "  </thead>\n",
       "  <tbody>\n",
       "    <tr>\n",
       "      <th>Central</th>\n",
       "      <td>3.0</td>\n",
       "      <td>48.333333</td>\n",
       "      <td>10.408330</td>\n",
       "      <td>40.0</td>\n",
       "      <td>42.5</td>\n",
       "      <td>45.0</td>\n",
       "      <td>52.5</td>\n",
       "      <td>60.0</td>\n",
       "    </tr>\n",
       "    <tr>\n",
       "      <th>East</th>\n",
       "      <td>28.0</td>\n",
       "      <td>41.607143</td>\n",
       "      <td>16.276180</td>\n",
       "      <td>20.0</td>\n",
       "      <td>30.0</td>\n",
       "      <td>40.0</td>\n",
       "      <td>50.0</td>\n",
       "      <td>90.0</td>\n",
       "    </tr>\n",
       "    <tr>\n",
       "      <th>North</th>\n",
       "      <td>48.0</td>\n",
       "      <td>41.979167</td>\n",
       "      <td>21.994670</td>\n",
       "      <td>5.0</td>\n",
       "      <td>30.0</td>\n",
       "      <td>40.0</td>\n",
       "      <td>50.0</td>\n",
       "      <td>120.0</td>\n",
       "    </tr>\n",
       "    <tr>\n",
       "      <th>North East</th>\n",
       "      <td>13.0</td>\n",
       "      <td>28.461538</td>\n",
       "      <td>9.439415</td>\n",
       "      <td>15.0</td>\n",
       "      <td>20.0</td>\n",
       "      <td>30.0</td>\n",
       "      <td>35.0</td>\n",
       "      <td>45.0</td>\n",
       "    </tr>\n",
       "    <tr>\n",
       "      <th>South</th>\n",
       "      <td>55.0</td>\n",
       "      <td>36.909091</td>\n",
       "      <td>24.123350</td>\n",
       "      <td>5.0</td>\n",
       "      <td>20.0</td>\n",
       "      <td>30.0</td>\n",
       "      <td>45.0</td>\n",
       "      <td>120.0</td>\n",
       "    </tr>\n",
       "    <tr>\n",
       "      <th>West</th>\n",
       "      <td>67.0</td>\n",
       "      <td>41.880597</td>\n",
       "      <td>85.419557</td>\n",
       "      <td>6.0</td>\n",
       "      <td>22.5</td>\n",
       "      <td>30.0</td>\n",
       "      <td>40.0</td>\n",
       "      <td>720.0</td>\n",
       "    </tr>\n",
       "  </tbody>\n",
       "</table>\n",
       "</div>"
      ],
      "text/plain": [
       "            count       mean        std   min   25%   50%   75%    max\n",
       "region                                                                \n",
       "Central       3.0  48.333333  10.408330  40.0  42.5  45.0  52.5   60.0\n",
       "East         28.0  41.607143  16.276180  20.0  30.0  40.0  50.0   90.0\n",
       "North        48.0  41.979167  21.994670   5.0  30.0  40.0  50.0  120.0\n",
       "North East   13.0  28.461538   9.439415  15.0  20.0  30.0  35.0   45.0\n",
       "South        55.0  36.909091  24.123350   5.0  20.0  30.0  45.0  120.0\n",
       "West         67.0  41.880597  85.419557   6.0  22.5  30.0  40.0  720.0"
      ]
     },
     "execution_count": 8,
     "metadata": {},
     "output_type": "execute_result"
    }
   ],
   "source": [
    "indian_food.groupby(by=['region'])['cook_time'].describe()"
   ]
  },
  {
   "cell_type": "code",
   "execution_count": 9,
   "id": "hybrid-brisbane",
   "metadata": {},
   "outputs": [],
   "source": [
    "def boxp2(var1, var2, title, ylabel):\n",
    "    # Using cook_time without outlier\n",
    "    # Using pandas methods and slicing to determine the order by decreasing median\n",
    "    new_order = cook_time.groupby(by=[var1])[var2].median().iloc[::1].index\n",
    "    sns.boxplot(x=var1, y=var2, data=cook_time, order=new_order, color='#2b8cbe')\n",
    "    \n",
    "    sns.despine(bottom = False, left = False) #removes frames\n",
    "\n",
    "    plt.title(title, y=1.15, x=0.5, fontsize=15)\n",
    "    plt.ylabel(ylabel)\n",
    "    plt.show()"
   ]
  },
  {
   "cell_type": "code",
   "execution_count": 10,
   "id": "suspended-sierra",
   "metadata": {},
   "outputs": [
    {
     "data": {
      "text/html": [
       "<div>\n",
       "<style scoped>\n",
       "    .dataframe tbody tr th:only-of-type {\n",
       "        vertical-align: middle;\n",
       "    }\n",
       "\n",
       "    .dataframe tbody tr th {\n",
       "        vertical-align: top;\n",
       "    }\n",
       "\n",
       "    .dataframe thead th {\n",
       "        text-align: right;\n",
       "    }\n",
       "</style>\n",
       "<table border=\"1\" class=\"dataframe\">\n",
       "  <thead>\n",
       "    <tr style=\"text-align: right;\">\n",
       "      <th></th>\n",
       "      <th>name</th>\n",
       "      <th>ingredients</th>\n",
       "      <th>diet</th>\n",
       "      <th>prep_time</th>\n",
       "      <th>cook_time</th>\n",
       "      <th>flavor_profile</th>\n",
       "      <th>course</th>\n",
       "      <th>state</th>\n",
       "      <th>region</th>\n",
       "      <th>num_ingr</th>\n",
       "    </tr>\n",
       "  </thead>\n",
       "  <tbody>\n",
       "    <tr>\n",
       "      <th>62</th>\n",
       "      <td>Shrikhand</td>\n",
       "      <td>curd, sugar, saffron, cardamom</td>\n",
       "      <td>vegetarian</td>\n",
       "      <td>10.0</td>\n",
       "      <td>720.0</td>\n",
       "      <td>sweet</td>\n",
       "      <td>dessert</td>\n",
       "      <td>Maharashtra</td>\n",
       "      <td>West</td>\n",
       "      <td>4</td>\n",
       "    </tr>\n",
       "  </tbody>\n",
       "</table>\n",
       "</div>"
      ],
      "text/plain": [
       "         name                     ingredients        diet  prep_time  \\\n",
       "62  Shrikhand  curd, sugar, saffron, cardamom  vegetarian       10.0   \n",
       "\n",
       "    cook_time flavor_profile   course        state region  num_ingr  \n",
       "62      720.0          sweet  dessert  Maharashtra   West         4  "
      ]
     },
     "execution_count": 10,
     "metadata": {},
     "output_type": "execute_result"
    }
   ],
   "source": [
    "indian_food[indian_food['cook_time'] == 720]"
   ]
  },
  {
   "cell_type": "code",
   "execution_count": 11,
   "id": "italian-interval",
   "metadata": {},
   "outputs": [],
   "source": [
    "no_720 = (indian_food['cook_time'] == 720)\n",
    "cook_time = indian_food.loc[~no_720]"
   ]
  },
  {
   "cell_type": "code",
   "execution_count": 12,
   "id": "vocational-japanese",
   "metadata": {},
   "outputs": [
    {
     "data": {
      "text/html": [
       "<div>\n",
       "<style scoped>\n",
       "    .dataframe tbody tr th:only-of-type {\n",
       "        vertical-align: middle;\n",
       "    }\n",
       "\n",
       "    .dataframe tbody tr th {\n",
       "        vertical-align: top;\n",
       "    }\n",
       "\n",
       "    .dataframe thead th {\n",
       "        text-align: right;\n",
       "    }\n",
       "</style>\n",
       "<table border=\"1\" class=\"dataframe\">\n",
       "  <thead>\n",
       "    <tr style=\"text-align: right;\">\n",
       "      <th></th>\n",
       "      <th>count</th>\n",
       "      <th>mean</th>\n",
       "      <th>std</th>\n",
       "      <th>min</th>\n",
       "      <th>25%</th>\n",
       "      <th>50%</th>\n",
       "      <th>75%</th>\n",
       "      <th>max</th>\n",
       "    </tr>\n",
       "    <tr>\n",
       "      <th>region</th>\n",
       "      <th></th>\n",
       "      <th></th>\n",
       "      <th></th>\n",
       "      <th></th>\n",
       "      <th></th>\n",
       "      <th></th>\n",
       "      <th></th>\n",
       "      <th></th>\n",
       "    </tr>\n",
       "  </thead>\n",
       "  <tbody>\n",
       "    <tr>\n",
       "      <th>Central</th>\n",
       "      <td>3.0</td>\n",
       "      <td>48.333333</td>\n",
       "      <td>10.408330</td>\n",
       "      <td>40.0</td>\n",
       "      <td>42.50</td>\n",
       "      <td>45.0</td>\n",
       "      <td>52.5</td>\n",
       "      <td>60.0</td>\n",
       "    </tr>\n",
       "    <tr>\n",
       "      <th>East</th>\n",
       "      <td>28.0</td>\n",
       "      <td>41.607143</td>\n",
       "      <td>16.276180</td>\n",
       "      <td>20.0</td>\n",
       "      <td>30.00</td>\n",
       "      <td>40.0</td>\n",
       "      <td>50.0</td>\n",
       "      <td>90.0</td>\n",
       "    </tr>\n",
       "    <tr>\n",
       "      <th>North</th>\n",
       "      <td>48.0</td>\n",
       "      <td>41.979167</td>\n",
       "      <td>21.994670</td>\n",
       "      <td>5.0</td>\n",
       "      <td>30.00</td>\n",
       "      <td>40.0</td>\n",
       "      <td>50.0</td>\n",
       "      <td>120.0</td>\n",
       "    </tr>\n",
       "    <tr>\n",
       "      <th>North East</th>\n",
       "      <td>13.0</td>\n",
       "      <td>28.461538</td>\n",
       "      <td>9.439415</td>\n",
       "      <td>15.0</td>\n",
       "      <td>20.00</td>\n",
       "      <td>30.0</td>\n",
       "      <td>35.0</td>\n",
       "      <td>45.0</td>\n",
       "    </tr>\n",
       "    <tr>\n",
       "      <th>South</th>\n",
       "      <td>55.0</td>\n",
       "      <td>36.909091</td>\n",
       "      <td>24.123350</td>\n",
       "      <td>5.0</td>\n",
       "      <td>20.00</td>\n",
       "      <td>30.0</td>\n",
       "      <td>45.0</td>\n",
       "      <td>120.0</td>\n",
       "    </tr>\n",
       "    <tr>\n",
       "      <th>West</th>\n",
       "      <td>66.0</td>\n",
       "      <td>31.606061</td>\n",
       "      <td>15.066906</td>\n",
       "      <td>6.0</td>\n",
       "      <td>21.25</td>\n",
       "      <td>30.0</td>\n",
       "      <td>40.0</td>\n",
       "      <td>90.0</td>\n",
       "    </tr>\n",
       "  </tbody>\n",
       "</table>\n",
       "</div>"
      ],
      "text/plain": [
       "            count       mean        std   min    25%   50%   75%    max\n",
       "region                                                                 \n",
       "Central       3.0  48.333333  10.408330  40.0  42.50  45.0  52.5   60.0\n",
       "East         28.0  41.607143  16.276180  20.0  30.00  40.0  50.0   90.0\n",
       "North        48.0  41.979167  21.994670   5.0  30.00  40.0  50.0  120.0\n",
       "North East   13.0  28.461538   9.439415  15.0  20.00  30.0  35.0   45.0\n",
       "South        55.0  36.909091  24.123350   5.0  20.00  30.0  45.0  120.0\n",
       "West         66.0  31.606061  15.066906   6.0  21.25  30.0  40.0   90.0"
      ]
     },
     "execution_count": 12,
     "metadata": {},
     "output_type": "execute_result"
    }
   ],
   "source": [
    "cook_time.groupby(by=['region'])['cook_time'].describe()"
   ]
  },
  {
   "cell_type": "code",
   "execution_count": 13,
   "id": "varied-criminal",
   "metadata": {},
   "outputs": [
    {
     "data": {
      "image/png": "[encoded data removed]",
      "text/plain": [
       "<Figure size 432x288 with 1 Axes>"
      ]
     },
     "metadata": {
      "needs_background": "light"
     },
     "output_type": "display_data"
    }
   ],
   "source": [
    "boxp2('diet', 'cook_time', \"Comparison of cooking times by diet\", \"Cook time in minutes\")"
   ]
  },
  {
   "cell_type": "code",
   "execution_count": 14,
   "id": "advisory-apple",
   "metadata": {},
   "outputs": [
    {
     "data": {
      "image/png": "[encoded data removed]",
      "text/plain": [
       "<Figure size 432x288 with 1 Axes>"
      ]
     },
     "metadata": {
      "needs_background": "light"
     },
     "output_type": "display_data"
    }
   ],
   "source": [
    "boxp2('flavor_profile', 'cook_time', \"Comparison of cooking times by flavor\", \"Cook time in minutes\")"
   ]
  },
  {
   "cell_type": "code",
   "execution_count": 15,
   "id": "nasty-abortion",
   "metadata": {},
   "outputs": [
    {
     "data": {
      "text/html": [
       "<div>\n",
       "<style scoped>\n",
       "    .dataframe tbody tr th:only-of-type {\n",
       "        vertical-align: middle;\n",
       "    }\n",
       "\n",
       "    .dataframe tbody tr th {\n",
       "        vertical-align: top;\n",
       "    }\n",
       "\n",
       "    .dataframe thead th {\n",
       "        text-align: right;\n",
       "    }\n",
       "</style>\n",
       "<table border=\"1\" class=\"dataframe\">\n",
       "  <thead>\n",
       "    <tr style=\"text-align: right;\">\n",
       "      <th></th>\n",
       "      <th>name</th>\n",
       "      <th>ingredients</th>\n",
       "      <th>diet</th>\n",
       "      <th>prep_time</th>\n",
       "      <th>cook_time</th>\n",
       "      <th>flavor_profile</th>\n",
       "      <th>course</th>\n",
       "      <th>state</th>\n",
       "      <th>region</th>\n",
       "      <th>num_ingr</th>\n",
       "    </tr>\n",
       "  </thead>\n",
       "  <tbody>\n",
       "    <tr>\n",
       "      <th>190</th>\n",
       "      <td>Keri no ras</td>\n",
       "      <td>mango, sugar</td>\n",
       "      <td>vegetarian</td>\n",
       "      <td>10.0</td>\n",
       "      <td>10.0</td>\n",
       "      <td>sour</td>\n",
       "      <td>main course</td>\n",
       "      <td>Gujarat</td>\n",
       "      <td>West</td>\n",
       "      <td>2</td>\n",
       "    </tr>\n",
       "  </tbody>\n",
       "</table>\n",
       "</div>"
      ],
      "text/plain": [
       "            name   ingredients        diet  prep_time  cook_time  \\\n",
       "190  Keri no ras  mango, sugar  vegetarian       10.0       10.0   \n",
       "\n",
       "    flavor_profile       course    state region  num_ingr  \n",
       "190           sour  main course  Gujarat   West         2  "
      ]
     },
     "execution_count": 15,
     "metadata": {},
     "output_type": "execute_result"
    }
   ],
   "source": [
    "cook_time[cook_time['flavor_profile']=='sour']"
   ]
  },
  {
   "cell_type": "code",
   "execution_count": 16,
   "id": "necessary-chemistry",
   "metadata": {},
   "outputs": [
    {
     "data": {
      "image/png": "[encoded data removed]",
      "text/plain": [
       "<Figure size 432x288 with 1 Axes>"
      ]
     },
     "metadata": {
      "needs_background": "light"
     },
     "output_type": "display_data"
    }
   ],
   "source": [
    "boxp2('region', 'cook_time', \"Comparison of cooking times by region\", \"Cook time in minutes\")"
   ]
  },
  {
   "cell_type": "code",
   "execution_count": 17,
   "id": "stone-thompson",
   "metadata": {},
   "outputs": [
    {
     "data": {
      "image/png": "[encoded data removed]",
      "text/plain": [
       "<Figure size 432x288 with 1 Axes>"
      ]
     },
     "metadata": {
      "needs_background": "light"
     },
     "output_type": "display_data"
    }
   ],
   "source": [
    "# Using cook_time without outlier\n",
    "# Using pandas methods and slicing to determine the order by decreasing median\n",
    "new_order = cook_time.groupby(by=['course'])['cook_time'].median().iloc[::-1].index\n",
    "sns.boxplot(x='course', y='cook_time', data=cook_time, order=new_order, color='#2b8cbe')\n",
    "\n",
    "plt.title(\"Comparison of cooking times by course\", y=1.07, fontsize=15)\n",
    "plt.ylabel(\"Cook time in minutes\")\n",
    "plt.show()"
   ]
  },
  {
   "cell_type": "code",
   "execution_count": 18,
   "id": "young-consideration",
   "metadata": {},
   "outputs": [
    {
     "data": {
      "text/plain": [
       "course\n",
       "starter        37.5\n",
       "snack          30.0\n",
       "main course    30.0\n",
       "dessert        30.0\n",
       "Name: cook_time, dtype: float64"
      ]
     },
     "execution_count": 18,
     "metadata": {},
     "output_type": "execute_result"
    }
   ],
   "source": [
    "cook_time.groupby(by=['course'])['cook_time'].median().iloc[::-1]"
   ]
  },
  {
   "cell_type": "code",
   "execution_count": 19,
   "id": "ruled-provincial",
   "metadata": {},
   "outputs": [
    {
     "data": {
      "image/png": "[encoded data removed]",
      "text/plain": [
       "<Figure size 720x864 with 1 Axes>"
      ]
     },
     "metadata": {
      "needs_background": "light"
     },
     "output_type": "display_data"
    }
   ],
   "source": [
    "# Using cook_time without outlier\n",
    "# Using pandas methods and slicing to determine the order by decreasing median\n",
    "plt.figure(figsize=(10,12))\n",
    "new_order = cook_time.groupby(by=['state'])['cook_time'].median().iloc[::1].index\n",
    "sns.boxplot(y='state', x='cook_time', data=cook_time, order=new_order, color='#2b8cbe')\n",
    "\n",
    "plt.title(\"Comparison of cooking times by state\", y=1.03, fontsize=15)\n",
    "plt.ylabel(\"Cook time in minutes\")\n",
    "plt.show()"
   ]
  },
  {
   "cell_type": "code",
   "execution_count": 20,
   "id": "native-chamber",
   "metadata": {},
   "outputs": [
    {
     "data": {
      "text/plain": [
       "state\n",
       "Andhra Pradesh     30.0\n",
       "Assam              30.0\n",
       "Bihar              60.0\n",
       "Chhattisgarh       60.0\n",
       "Goa                50.0\n",
       "Gujarat            30.0\n",
       "Haryana            60.0\n",
       "Jammu & Kashmir    50.0\n",
       "Karnataka          52.5\n",
       "Kerala             40.0\n",
       "Madhya Pradesh     42.5\n",
       "Maharashtra        30.0\n",
       "Manipur            45.0\n",
       "NCT of Delhi       35.0\n",
       "Nagaland           15.0\n",
       "Odisha             47.5\n",
       "Punjab             30.0\n",
       "Rajasthan          30.0\n",
       "Tamil Nadu         20.0\n",
       "Telangana          30.0\n",
       "Tripura             NaN\n",
       "Uttar Pradesh      40.0\n",
       "Uttarakhand        20.0\n",
       "West Bengal        37.5\n",
       "Name: cook_time, dtype: float64"
      ]
     },
     "execution_count": 20,
     "metadata": {},
     "output_type": "execute_result"
    }
   ],
   "source": [
    "cook_time.groupby(by=['state'])['cook_time'].median().iloc[::1]"
   ]
  },
  {
   "cell_type": "code",
   "execution_count": 21,
   "id": "democratic-happening",
   "metadata": {},
   "outputs": [
    {
     "data": {
      "image/png": "[encoded data removed]",
      "text/plain": [
       "<Figure size 432x288 with 1 Axes>"
      ]
     },
     "metadata": {
      "needs_background": "light"
     },
     "output_type": "display_data"
    }
   ],
   "source": [
    "# Using cook_time without outlier\n",
    "# Using pandas methods and slicing to determine the order by decreasing median\n",
    "new_order = cook_time.groupby(by=['diet'])['cook_time'].median().iloc[::1].index\n",
    "sns.boxplot(x='diet', y='cook_time', data=cook_time, order=new_order, color='#2b8cbe')\n",
    "\n",
    "plt.title(\"Comparison of cooking times by region\", y=1.07, fontsize=15)\n",
    "plt.ylabel(\"Cook time in minutes\")\n",
    "plt.show()"
   ]
  },
  {
   "cell_type": "code",
   "execution_count": 22,
   "id": "gorgeous-congo",
   "metadata": {},
   "outputs": [
    {
     "data": {
      "text/plain": [
       "diet\n",
       "non vegetarian    35.0\n",
       "vegetarian        30.0\n",
       "Name: cook_time, dtype: float64"
      ]
     },
     "execution_count": 22,
     "metadata": {},
     "output_type": "execute_result"
    }
   ],
   "source": [
    "cook_time.groupby(by=['diet'])['cook_time'].median().iloc[::1]"
   ]
  },
  {
   "cell_type": "code",
   "execution_count": 23,
   "id": "laughing-presentation",
   "metadata": {},
   "outputs": [
    {
     "data": {
      "text/plain": [
       "Index(['non vegetarian', 'vegetarian'], dtype='object', name='diet')"
      ]
     },
     "execution_count": 23,
     "metadata": {},
     "output_type": "execute_result"
    }
   ],
   "source": [
    "new_order"
   ]
  }
 ],
 "metadata": {
  "kernelspec": {
   "display_name": "Python 3",
   "language": "python",
   "name": "python3"
  },
  "language_info": {
   "codemirror_mode": {
    "name": "ipython",
    "version": 3
   },
   "file_extension": ".py",
   "mimetype": "text/x-python",
   "name": "python",
   "nbconvert_exporter": "python",
   "pygments_lexer": "ipython3",
   "version": "3.7.9"
  }
 },
 "nbformat": 4,
 "nbformat_minor": 5
}
