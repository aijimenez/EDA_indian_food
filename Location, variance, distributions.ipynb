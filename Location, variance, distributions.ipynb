{
 "cells": [
  {
   "cell_type": "code",
   "execution_count": 1,
   "id": "brazilian-ranch",
   "metadata": {},
   "outputs": [],
   "source": [
    "import matplotlib.pyplot as plt\n",
    "import numpy as np\n",
    "import seaborn as sns\n",
    "import pandas as pd\n",
    "import statistics # for variance\n",
    "from scipy import stats # calculate trimmed mean\n",
    "\n",
    "pd.set_option('display.max_rows', 426)\n",
    "\n",
    "na_vals = ['-1', 1]\n",
    "indian_food = pd.read_csv(\"indian_food.csv\", na_values=na_vals)\n",
    "indian_food['ingredients'] = indian_food['ingredients'].apply(lambda x: x.lower())"
   ]
  },
  {
   "cell_type": "code",
   "execution_count": 2,
   "id": "durable-surgery",
   "metadata": {},
   "outputs": [],
   "source": [
    "indian_food['num_ingr'] = indian_food['ingredients'].apply(lambda x: len(x.split(',')))"
   ]
  },
  {
   "cell_type": "code",
   "execution_count": 3,
   "id": "registered-deployment",
   "metadata": {},
   "outputs": [
    {
     "data": {
      "text/html": [
       "<div>\n",
       "<style scoped>\n",
       "    .dataframe tbody tr th:only-of-type {\n",
       "        vertical-align: middle;\n",
       "    }\n",
       "\n",
       "    .dataframe tbody tr th {\n",
       "        vertical-align: top;\n",
       "    }\n",
       "\n",
       "    .dataframe thead th {\n",
       "        text-align: right;\n",
       "    }\n",
       "</style>\n",
       "<table border=\"1\" class=\"dataframe\">\n",
       "  <thead>\n",
       "    <tr style=\"text-align: right;\">\n",
       "      <th></th>\n",
       "      <th>name</th>\n",
       "      <th>ingredients</th>\n",
       "      <th>diet</th>\n",
       "      <th>prep_time</th>\n",
       "      <th>cook_time</th>\n",
       "      <th>flavor_profile</th>\n",
       "      <th>course</th>\n",
       "      <th>state</th>\n",
       "      <th>region</th>\n",
       "      <th>num_ingr</th>\n",
       "    </tr>\n",
       "  </thead>\n",
       "  <tbody>\n",
       "    <tr>\n",
       "      <th>0</th>\n",
       "      <td>Balu shahi</td>\n",
       "      <td>maida flour, yogurt, oil, sugar</td>\n",
       "      <td>vegetarian</td>\n",
       "      <td>45.0</td>\n",
       "      <td>25.0</td>\n",
       "      <td>sweet</td>\n",
       "      <td>dessert</td>\n",
       "      <td>West Bengal</td>\n",
       "      <td>East</td>\n",
       "      <td>4</td>\n",
       "    </tr>\n",
       "    <tr>\n",
       "      <th>1</th>\n",
       "      <td>Boondi</td>\n",
       "      <td>gram flour, ghee, sugar</td>\n",
       "      <td>vegetarian</td>\n",
       "      <td>80.0</td>\n",
       "      <td>30.0</td>\n",
       "      <td>sweet</td>\n",
       "      <td>dessert</td>\n",
       "      <td>Rajasthan</td>\n",
       "      <td>West</td>\n",
       "      <td>3</td>\n",
       "    </tr>\n",
       "  </tbody>\n",
       "</table>\n",
       "</div>"
      ],
      "text/plain": [
       "         name                      ingredients        diet  prep_time  \\\n",
       "0  Balu shahi  maida flour, yogurt, oil, sugar  vegetarian       45.0   \n",
       "1      Boondi          gram flour, ghee, sugar  vegetarian       80.0   \n",
       "\n",
       "   cook_time flavor_profile   course        state region  num_ingr  \n",
       "0       25.0          sweet  dessert  West Bengal   East         4  \n",
       "1       30.0          sweet  dessert    Rajasthan   West         3  "
      ]
     },
     "execution_count": 3,
     "metadata": {},
     "output_type": "execute_result"
    }
   ],
   "source": [
    "indian_food.head(2)"
   ]
  },
  {
   "cell_type": "code",
   "execution_count": 4,
   "id": "architectural-belief",
   "metadata": {},
   "outputs": [
    {
     "data": {
      "text/plain": [
       "name               object\n",
       "ingredients        object\n",
       "diet               object\n",
       "prep_time         float64\n",
       "cook_time         float64\n",
       "flavor_profile     object\n",
       "course             object\n",
       "state              object\n",
       "region             object\n",
       "num_ingr            int64\n",
       "dtype: object"
      ]
     },
     "execution_count": 4,
     "metadata": {},
     "output_type": "execute_result"
    }
   ],
   "source": [
    "indian_food.dtypes"
   ]
  },
  {
   "cell_type": "code",
   "execution_count": 5,
   "id": "productive-recognition",
   "metadata": {},
   "outputs": [
    {
     "data": {
      "text/html": [
       "<div>\n",
       "<style scoped>\n",
       "    .dataframe tbody tr th:only-of-type {\n",
       "        vertical-align: middle;\n",
       "    }\n",
       "\n",
       "    .dataframe tbody tr th {\n",
       "        vertical-align: top;\n",
       "    }\n",
       "\n",
       "    .dataframe thead th {\n",
       "        text-align: right;\n",
       "    }\n",
       "</style>\n",
       "<table border=\"1\" class=\"dataframe\">\n",
       "  <thead>\n",
       "    <tr style=\"text-align: right;\">\n",
       "      <th></th>\n",
       "      <th>prep_time</th>\n",
       "      <th>cook_time</th>\n",
       "      <th>num_ingr</th>\n",
       "    </tr>\n",
       "  </thead>\n",
       "  <tbody>\n",
       "    <tr>\n",
       "      <th>prep_time</th>\n",
       "      <td>1.000</td>\n",
       "      <td>0.111</td>\n",
       "      <td>-0.081</td>\n",
       "    </tr>\n",
       "    <tr>\n",
       "      <th>cook_time</th>\n",
       "      <td>0.111</td>\n",
       "      <td>1.000</td>\n",
       "      <td>-0.005</td>\n",
       "    </tr>\n",
       "    <tr>\n",
       "      <th>num_ingr</th>\n",
       "      <td>-0.081</td>\n",
       "      <td>-0.005</td>\n",
       "      <td>1.000</td>\n",
       "    </tr>\n",
       "  </tbody>\n",
       "</table>\n",
       "</div>"
      ],
      "text/plain": [
       "           prep_time  cook_time  num_ingr\n",
       "prep_time      1.000      0.111    -0.081\n",
       "cook_time      0.111      1.000    -0.005\n",
       "num_ingr      -0.081     -0.005     1.000"
      ]
     },
     "execution_count": 5,
     "metadata": {},
     "output_type": "execute_result"
    }
   ],
   "source": [
    "round(indian_food.corr(), 3)"
   ]
  },
  {
   "cell_type": "code",
   "execution_count": 6,
   "id": "representative-bhutan",
   "metadata": {},
   "outputs": [
    {
     "data": {
      "text/plain": [
       "'brown rice, fennel seeds, grated coconut, black pepper, ginger powder'"
      ]
     },
     "execution_count": 6,
     "metadata": {},
     "output_type": "execute_result"
    }
   ],
   "source": [
    "indian_food['ingredients'].iloc[254]"
   ]
  },
  {
   "cell_type": "code",
   "execution_count": 7,
   "id": "missing-retreat",
   "metadata": {},
   "outputs": [
    {
     "data": {
      "text/html": [
       "<div>\n",
       "<style scoped>\n",
       "    .dataframe tbody tr th:only-of-type {\n",
       "        vertical-align: middle;\n",
       "    }\n",
       "\n",
       "    .dataframe tbody tr th {\n",
       "        vertical-align: top;\n",
       "    }\n",
       "\n",
       "    .dataframe thead th {\n",
       "        text-align: right;\n",
       "    }\n",
       "</style>\n",
       "<table border=\"1\" class=\"dataframe\">\n",
       "  <thead>\n",
       "    <tr style=\"text-align: right;\">\n",
       "      <th></th>\n",
       "      <th>prep_time</th>\n",
       "      <th>cook_time</th>\n",
       "      <th>num_ingr</th>\n",
       "    </tr>\n",
       "  </thead>\n",
       "  <tbody>\n",
       "    <tr>\n",
       "      <th>count</th>\n",
       "      <td>225.0</td>\n",
       "      <td>227.0</td>\n",
       "      <td>255.0</td>\n",
       "    </tr>\n",
       "    <tr>\n",
       "      <th>mean</th>\n",
       "      <td>35.4</td>\n",
       "      <td>38.9</td>\n",
       "      <td>4.5</td>\n",
       "    </tr>\n",
       "    <tr>\n",
       "      <th>std</th>\n",
       "      <td>76.2</td>\n",
       "      <td>49.4</td>\n",
       "      <td>1.2</td>\n",
       "    </tr>\n",
       "    <tr>\n",
       "      <th>min</th>\n",
       "      <td>5.0</td>\n",
       "      <td>2.0</td>\n",
       "      <td>2.0</td>\n",
       "    </tr>\n",
       "    <tr>\n",
       "      <th>25%</th>\n",
       "      <td>10.0</td>\n",
       "      <td>20.0</td>\n",
       "      <td>4.0</td>\n",
       "    </tr>\n",
       "    <tr>\n",
       "      <th>50%</th>\n",
       "      <td>10.0</td>\n",
       "      <td>30.0</td>\n",
       "      <td>5.0</td>\n",
       "    </tr>\n",
       "    <tr>\n",
       "      <th>75%</th>\n",
       "      <td>20.0</td>\n",
       "      <td>45.0</td>\n",
       "      <td>5.0</td>\n",
       "    </tr>\n",
       "    <tr>\n",
       "      <th>max</th>\n",
       "      <td>500.0</td>\n",
       "      <td>720.0</td>\n",
       "      <td>10.0</td>\n",
       "    </tr>\n",
       "  </tbody>\n",
       "</table>\n",
       "</div>"
      ],
      "text/plain": [
       "       prep_time  cook_time  num_ingr\n",
       "count      225.0      227.0     255.0\n",
       "mean        35.4       38.9       4.5\n",
       "std         76.2       49.4       1.2\n",
       "min          5.0        2.0       2.0\n",
       "25%         10.0       20.0       4.0\n",
       "50%         10.0       30.0       5.0\n",
       "75%         20.0       45.0       5.0\n",
       "max        500.0      720.0      10.0"
      ]
     },
     "execution_count": 7,
     "metadata": {},
     "output_type": "execute_result"
    }
   ],
   "source": [
    "round(indian_food.describe(), 1)"
   ]
  },
  {
   "cell_type": "markdown",
   "id": "worth-abuse",
   "metadata": {},
   "source": [
    "### Cook_time"
   ]
  },
  {
   "cell_type": "code",
   "execution_count": 8,
   "id": "coastal-tribute",
   "metadata": {},
   "outputs": [],
   "source": [
    "#Kernel density plot\n",
    "from sklearn.neighbors import KernelDensity\n",
    "from sklearn.model_selection import GridSearchCV"
   ]
  },
  {
   "cell_type": "code",
   "execution_count": 9,
   "id": "respected-gentleman",
   "metadata": {},
   "outputs": [
    {
     "data": {
      "image/png": "[encoded data removed]",
      "text/plain": [
       "<Figure size 432x288 with 2 Axes>"
      ]
     },
     "metadata": {
      "needs_background": "light"
     },
     "output_type": "display_data"
    }
   ],
   "source": [
    "fig, (ax1, ax2) = plt.subplots(1,2)\n",
    "sns.histplot(indian_food, x=\"cook_time\", ax=ax1)\n",
    "ax2.axes.get_yaxis().set_visible(False)\n",
    "no_720 = (indian_food['cook_time'] == 720)\n",
    "food = indian_food.loc[~no_720]\n",
    "sns.histplot(food, x=\"cook_time\", ax=ax2, bins=15)\n",
    "plt.show()"
   ]
  },
  {
   "cell_type": "code",
   "execution_count": 10,
   "id": "gross-swimming",
   "metadata": {},
   "outputs": [
    {
     "data": {
      "text/plain": [
       "<AxesSubplot:xlabel='cook_time', ylabel='Count'>"
      ]
     },
     "execution_count": 10,
     "metadata": {},
     "output_type": "execute_result"
    },
    {
     "data": {
      "image/png": "[encoded data removed]",
      "text/plain": [
       "<Figure size 432x288 with 1 Axes>"
      ]
     },
     "metadata": {
      "needs_background": "light"
     },
     "output_type": "display_data"
    }
   ],
   "source": [
    "sns.histplot(food, x=\"cook_time\")"
   ]
  },
  {
   "cell_type": "code",
   "execution_count": 11,
   "id": "passing-commerce",
   "metadata": {},
   "outputs": [
    {
     "data": {
      "image/png": "[encoded data removed]",
      "text/plain": [
       "<Figure size 432x288 with 3 Axes>"
      ]
     },
     "metadata": {
      "needs_background": "light"
     },
     "output_type": "display_data"
    }
   ],
   "source": [
    "#plot 1:\n",
    "plt.subplot(2, 2, 1)\n",
    "#the figure has 1 row, 2 columns, and this plot is the first plot. \n",
    "sns.histplot(indian_food, x=\"cook_time\")\n",
    "#plt.title(\"Histogram of Indian dishes\")\n",
    "plt.xlabel(\"cook time minutes\")\n",
    "#plt.grid(axis = 'y', alpha=0.3)\n",
    "\n",
    "#plot 2:\n",
    "plt.subplot(2, 2, 3)\n",
    "#the figure has 1 row, 2 columns, and this plot is the second plot. \n",
    "no_720 = (indian_food['cook_time'] == 720)\n",
    "food = indian_food.loc[~no_720]\n",
    "sns.histplot(food, x=\"cook_time\")\n",
    "#plt.title(\"Cook time histogram\")\n",
    "plt.xlabel(\"cook time minutes\")\n",
    "\n",
    "plt.suptitle(\"Cooking time of Indian dishes\")\n",
    "\n",
    "plt.subplot(2, 2, 4)\n",
    "sns.kdeplot(data=food, x='cook_time')\n",
    "#sns.boxplot(food['cook_time'], data=indian_food)\n",
    "\n",
    "plt.show()"
   ]
  },
  {
   "cell_type": "code",
   "execution_count": 12,
   "id": "detailed-operations",
   "metadata": {},
   "outputs": [
    {
     "data": {
      "image/png": "[encoded data removed]",
      "text/plain": [
       "<Figure size 432x288 with 1 Axes>"
      ]
     },
     "metadata": {
      "needs_background": "light"
     },
     "output_type": "display_data"
    }
   ],
   "source": [
    "sns.kdeplot(data=food, x='cook_time')\n",
    "plt.show()"
   ]
  },
  {
   "cell_type": "code",
   "execution_count": 90,
   "id": "baking-dancing",
   "metadata": {},
   "outputs": [
    {
     "name": "stderr",
     "output_type": "stream",
     "text": [
      "C:\\Users\\keelji\\Anaconda3\\lib\\site-packages\\seaborn\\_decorators.py:43: FutureWarning: Pass the following variable as a keyword arg: x. From version 0.12, the only valid positional argument will be `data`, and passing other arguments without an explicit keyword will result in an error or misinterpretation.\n",
      "  FutureWarning\n"
     ]
    },
    {
     "data": {
      "image/png": "[encoded data removed]",
      "text/plain": [
       "<Figure size 432x288 with 3 Axes>"
      ]
     },
     "metadata": {
      "needs_background": "light"
     },
     "output_type": "display_data"
    }
   ],
   "source": [
    "#fig, ax = plt.subplots(2, 2)\n",
    "#fig.tight_layout()\n",
    "\n",
    "#plot 1:\n",
    "plt.subplot(2, 2, 1)\n",
    "#the figure has 1 row, 2 columns, and this plot is the first plot. \n",
    "sns.boxplot(indian_food['cook_time'], data=indian_food)\n",
    "#sns.histplot(indian_food, x=\"cook_time\")\n",
    "#plt.title(\"Histogram of Indian dishes\")\n",
    "plt.xlabel(\"cook time minutes\")\n",
    "#plt.grid(axis = 'y', alpha=0.3)\n",
    "\n",
    "#plot 2:\n",
    "plt.subplot(2, 2, 3)\n",
    "#the figure has 1 row, 2 columns, and this plot is the second plot. \n",
    "no_720 = (indian_food['cook_time'] == 720)\n",
    "food = indian_food.loc[~no_720]\n",
    "sns.histplot(food, x=\"cook_time\")\n",
    "#plt.title(\"Cook time histogram\")\n",
    "plt.xlabel(\"cook time minutes\")\n",
    "\n",
    "#plot 3:\n",
    "#plt.subplot(2, 2, 3)\n",
    "#sns.boxplot(food['cook_time'], data=indian_food)\n",
    "\n",
    "#plot 4:\n",
    "plt.subplot(2, 2, 4)\n",
    "sns.kdeplot(data=food, x='cook_time')\n",
    "#sns.boxplot(food['cook_time'], data=indian_food)\n",
    "\n",
    "\n",
    "plt.suptitle(\"Cooking time of Indian dishes\")\n",
    "fig.tight_layout()\n",
    "plt.show()"
   ]
  },
  {
   "cell_type": "code",
   "execution_count": 91,
   "id": "adult-surrey",
   "metadata": {},
   "outputs": [
    {
     "name": "stderr",
     "output_type": "stream",
     "text": [
      "C:\\Users\\keelji\\Anaconda3\\lib\\site-packages\\seaborn\\_decorators.py:43: FutureWarning: Pass the following variable as a keyword arg: x. From version 0.12, the only valid positional argument will be `data`, and passing other arguments without an explicit keyword will result in an error or misinterpretation.\n",
      "  FutureWarning\n"
     ]
    },
    {
     "data": {
      "image/png": "[encoded data removed]",
      "text/plain": [
       "<Figure size 432x288 with 3 Axes>"
      ]
     },
     "metadata": {
      "needs_background": "light"
     },
     "output_type": "display_data"
    }
   ],
   "source": [
    "import matplotlib.pylab as pl\n",
    "import matplotlib.gridspec as gridspec\n",
    "\n",
    "# Create 2x2 sub plots\n",
    "gs = gridspec.GridSpec(2, 2)\n",
    "\n",
    "pl.figure()\n",
    "\n",
    "ax = pl.subplot(gs[0, :]) # row 1, span all columns\n",
    "sns.boxplot(indian_food['cook_time'], data=indian_food)\n",
    "\n",
    "ax = pl.subplot(gs[1, 0]) # row 0, col 0\n",
    "no_720 = (indian_food['cook_time'] == 720)\n",
    "food = indian_food.loc[~no_720]\n",
    "sns.histplot(food, x=\"cook_time\")\n",
    "\n",
    "ax = pl.subplot(gs[1, 1]) # row 0, col 1\n",
    "sns.kdeplot(data=food, x='cook_time')\n",
    "\n",
    "plt.suptitle(\"Cooking time of indian dishes\")\n",
    "plt.show()"
   ]
  },
  {
   "cell_type": "code",
   "execution_count": 15,
   "id": "artificial-public",
   "metadata": {},
   "outputs": [
    {
     "data": {
      "image/png": "[encoded data removed]",
      "text/plain": [
       "<Figure size 432x288 with 1 Axes>"
      ]
     },
     "metadata": {
      "needs_background": "light"
     },
     "output_type": "display_data"
    }
   ],
   "source": [
    "sns.kdeplot(data=indian_food, x='cook_time')\n",
    "plt.show()"
   ]
  },
  {
   "cell_type": "code",
   "execution_count": 16,
   "id": "divided-large",
   "metadata": {},
   "outputs": [
    {
     "name": "stderr",
     "output_type": "stream",
     "text": [
      "C:\\Users\\keelji\\Anaconda3\\lib\\site-packages\\seaborn\\_decorators.py:43: FutureWarning: Pass the following variable as a keyword arg: x. From version 0.12, the only valid positional argument will be `data`, and passing other arguments without an explicit keyword will result in an error or misinterpretation.\n",
      "  FutureWarning\n"
     ]
    },
    {
     "data": {
      "image/png": "[encoded data removed]",
      "text/plain": [
       "<Figure size 432x288 with 1 Axes>"
      ]
     },
     "metadata": {
      "needs_background": "light"
     },
     "output_type": "display_data"
    }
   ],
   "source": [
    "sns.boxplot(indian_food['cook_time'], data=indian_food)\n",
    "plt.show()"
   ]
  },
  {
   "cell_type": "code",
   "execution_count": 17,
   "id": "english-russian",
   "metadata": {},
   "outputs": [
    {
     "name": "stderr",
     "output_type": "stream",
     "text": [
      "C:\\Users\\keelji\\Anaconda3\\lib\\site-packages\\seaborn\\_decorators.py:43: FutureWarning: Pass the following variable as a keyword arg: x. From version 0.12, the only valid positional argument will be `data`, and passing other arguments without an explicit keyword will result in an error or misinterpretation.\n",
      "  FutureWarning\n"
     ]
    },
    {
     "data": {
      "text/plain": [
       "<AxesSubplot:xlabel='cook_time'>"
      ]
     },
     "execution_count": 17,
     "metadata": {},
     "output_type": "execute_result"
    },
    {
     "data": {
      "image/png": "[encoded data removed]",
      "text/plain": [
       "<Figure size 432x288 with 1 Axes>"
      ]
     },
     "metadata": {
      "needs_background": "light"
     },
     "output_type": "display_data"
    }
   ],
   "source": [
    "sns.violinplot(indian_food['cook_time'])"
   ]
  },
  {
   "cell_type": "code",
   "execution_count": 18,
   "id": "fixed-youth",
   "metadata": {},
   "outputs": [
    {
     "data": {
      "text/plain": [
       "count    227.000000\n",
       "mean      38.911894\n",
       "std       49.421711\n",
       "min        2.000000\n",
       "25%       20.000000\n",
       "50%       30.000000\n",
       "75%       45.000000\n",
       "max      720.000000\n",
       "Name: cook_time, dtype: float64"
      ]
     },
     "execution_count": 18,
     "metadata": {},
     "output_type": "execute_result"
    }
   ],
   "source": [
    "indian_food['cook_time'].describe()"
   ]
  },
  {
   "cell_type": "code",
   "execution_count": 19,
   "id": "bigger-guarantee",
   "metadata": {},
   "outputs": [
    {
     "data": {
      "text/plain": [
       "nan"
      ]
     },
     "execution_count": 19,
     "metadata": {},
     "output_type": "execute_result"
    }
   ],
   "source": [
    "statistics.variance(indian_food['cook_time'])"
   ]
  },
  {
   "cell_type": "code",
   "execution_count": 20,
   "id": "renewable-momentum",
   "metadata": {},
   "outputs": [
    {
     "data": {
      "text/plain": [
       "30.0"
      ]
     },
     "execution_count": 20,
     "metadata": {},
     "output_type": "execute_result"
    }
   ],
   "source": [
    "indian_food['cook_time'].median()"
   ]
  },
  {
   "cell_type": "code",
   "execution_count": 21,
   "id": "promising-sensitivity",
   "metadata": {},
   "outputs": [
    {
     "data": {
      "text/plain": [
       "0    30.0\n",
       "dtype: float64"
      ]
     },
     "execution_count": 21,
     "metadata": {},
     "output_type": "execute_result"
    }
   ],
   "source": [
    "indian_food['cook_time'].mode()"
   ]
  },
  {
   "cell_type": "code",
   "execution_count": 22,
   "id": "graduate-suspension",
   "metadata": {},
   "outputs": [
    {
     "data": {
      "text/plain": [
       "pandas.core.series.Series"
      ]
     },
     "execution_count": 22,
     "metadata": {},
     "output_type": "execute_result"
    }
   ],
   "source": [
    "type(indian_food['cook_time'])"
   ]
  },
  {
   "cell_type": "code",
   "execution_count": 23,
   "id": "appropriate-orlando",
   "metadata": {},
   "outputs": [],
   "source": [
    "cook_time = indian_food['cook_time'].to_numpy()\n",
    "#cook_time"
   ]
  },
  {
   "cell_type": "code",
   "execution_count": 24,
   "id": "failing-violation",
   "metadata": {},
   "outputs": [
    {
     "data": {
      "text/plain": [
       "42.437185929648244"
      ]
     },
     "execution_count": 24,
     "metadata": {},
     "output_type": "execute_result"
    }
   ],
   "source": [
    "stats.trim_mean(indian_food['cook_time'], .11)"
   ]
  },
  {
   "cell_type": "code",
   "execution_count": 25,
   "id": "fresh-gardening",
   "metadata": {},
   "outputs": [
    {
     "data": {
      "text/plain": [
       "36.209150326797385"
      ]
     },
     "execution_count": 25,
     "metadata": {},
     "output_type": "execute_result"
    }
   ],
   "source": [
    "stats.trim_mean(cook_time, .2)"
   ]
  },
  {
   "cell_type": "code",
   "execution_count": 26,
   "id": "extended-notion",
   "metadata": {},
   "outputs": [],
   "source": [
    "no_720 = (indian_food['cook_time'] == 720)\n",
    "food = indian_food.loc[~no_720]"
   ]
  },
  {
   "cell_type": "code",
   "execution_count": 27,
   "id": "united-valuation",
   "metadata": {},
   "outputs": [
    {
     "data": {
      "text/plain": [
       "count    226.000000\n",
       "mean      35.898230\n",
       "std       19.558762\n",
       "min        2.000000\n",
       "25%       20.000000\n",
       "50%       30.000000\n",
       "75%       45.000000\n",
       "max      120.000000\n",
       "Name: cook_time, dtype: float64"
      ]
     },
     "execution_count": 27,
     "metadata": {},
     "output_type": "execute_result"
    }
   ],
   "source": [
    "food['cook_time'].describe()"
   ]
  },
  {
   "cell_type": "code",
   "execution_count": 28,
   "id": "infrared-processor",
   "metadata": {},
   "outputs": [
    {
     "data": {
      "text/plain": [
       "30.0"
      ]
     },
     "execution_count": 28,
     "metadata": {},
     "output_type": "execute_result"
    }
   ],
   "source": [
    "food['cook_time'].median()"
   ]
  },
  {
   "cell_type": "code",
   "execution_count": 29,
   "id": "later-radical",
   "metadata": {},
   "outputs": [
    {
     "data": {
      "text/plain": [
       "0    30.0\n",
       "dtype: float64"
      ]
     },
     "execution_count": 29,
     "metadata": {},
     "output_type": "execute_result"
    }
   ],
   "source": [
    "food['cook_time'].mode()"
   ]
  },
  {
   "cell_type": "code",
   "execution_count": 30,
   "id": "mounted-activation",
   "metadata": {},
   "outputs": [
    {
     "data": {
      "image/png": "[encoded data removed]",
      "text/plain": [
       "<Figure size 432x288 with 1 Axes>"
      ]
     },
     "metadata": {
      "needs_background": "light"
     },
     "output_type": "display_data"
    }
   ],
   "source": [
    "plt.figure()\n",
    "sns.histplot(food, x=\"cook_time\")\n",
    "plt.show()"
   ]
  },
  {
   "cell_type": "code",
   "execution_count": 31,
   "id": "herbal-lincoln",
   "metadata": {},
   "outputs": [
    {
     "name": "stderr",
     "output_type": "stream",
     "text": [
      "C:\\Users\\keelji\\Anaconda3\\lib\\site-packages\\seaborn\\_decorators.py:43: FutureWarning: Pass the following variable as a keyword arg: x. From version 0.12, the only valid positional argument will be `data`, and passing other arguments without an explicit keyword will result in an error or misinterpretation.\n",
      "  FutureWarning\n"
     ]
    },
    {
     "data": {
      "image/png": "[encoded data removed]",
      "text/plain": [
       "<Figure size 432x288 with 1 Axes>"
      ]
     },
     "metadata": {
      "needs_background": "light"
     },
     "output_type": "display_data"
    }
   ],
   "source": [
    "sns.boxplot(food['cook_time'], data=indian_food)\n",
    "plt.show()"
   ]
  },
  {
   "cell_type": "markdown",
   "id": "natural-illinois",
   "metadata": {},
   "source": [
    "### Preparation time"
   ]
  },
  {
   "cell_type": "code",
   "execution_count": 32,
   "id": "sapphire-holder",
   "metadata": {},
   "outputs": [
    {
     "data": {
      "text/plain": [
       "9"
      ]
     },
     "execution_count": 32,
     "metadata": {},
     "output_type": "execute_result"
    }
   ],
   "source": [
    "bin_count = int(np.ceil(np.log2(255)) + 1)\n",
    "bin_count"
   ]
  },
  {
   "cell_type": "code",
   "execution_count": 33,
   "id": "coupled-going",
   "metadata": {},
   "outputs": [
    {
     "data": {
      "image/png": "[encoded data removed]",
      "text/plain": [
       "<Figure size 432x288 with 1 Axes>"
      ]
     },
     "metadata": {
      "needs_background": "light"
     },
     "output_type": "display_data"
    }
   ],
   "source": [
    "plt.figure()\n",
    "sns.histplot(indian_food, x=\"prep_time\")\n",
    "plt.show()"
   ]
  },
  {
   "cell_type": "code",
   "execution_count": 110,
   "id": "front-stake",
   "metadata": {},
   "outputs": [
    {
     "data": {
      "image/png": "[encoded data removed]",
      "text/plain": [
       "<Figure size 648x360 with 1 Axes>"
      ]
     },
     "metadata": {
      "needs_background": "light"
     },
     "output_type": "display_data"
    }
   ],
   "source": [
    "plt.figure(figsize=(9,5))\n",
    "sns.histplot(indian_food, x=\"prep_time\", bins= 50)\n",
    "plt.title(\"Histogram for the preparation time of indian dishes\", fontsize=15, loc='left', y=1.07)\n",
    "plt.xlabel(\"preparation time minutes\")\n",
    "plt.xlim(0, 510)\n",
    "\n",
    "plt.show()"
   ]
  },
  {
   "cell_type": "code",
   "execution_count": 117,
   "id": "crude-infrared",
   "metadata": {},
   "outputs": [
    {
     "name": "stderr",
     "output_type": "stream",
     "text": [
      "C:\\Users\\keelji\\Anaconda3\\lib\\site-packages\\seaborn\\distributions.py:2557: FutureWarning: `distplot` is a deprecated function and will be removed in a future version. Please adapt your code to use either `displot` (a figure-level function with similar flexibility) or `histplot` (an axes-level function for histograms).\n",
      "  warnings.warn(msg, FutureWarning)\n"
     ]
    },
    {
     "data": {
      "image/png": "[encoded data removed]",
      "text/plain": [
       "<Figure size 720x360 with 1 Axes>"
      ]
     },
     "metadata": {
      "needs_background": "light"
     },
     "output_type": "display_data"
    }
   ],
   "source": [
    "plt.figure(figsize=(10,5))\n",
    "sns.distplot(indian_food['prep_time'], kde = True)\n",
    "plt.title(\"Histogram for the preparation time of indian dishes\", fontsize=15, loc='left', y=1.07)\n",
    "plt.xlabel(\"preparation time minutes\")\n",
    "plt.xlim(0, 510)\n",
    "plt.show()"
   ]
  },
  {
   "cell_type": "code",
   "execution_count": 119,
   "id": "compressed-story",
   "metadata": {},
   "outputs": [
    {
     "data": {
      "image/png": "[encoded data removed]",
      "text/plain": [
       "<Figure size 432x288 with 1 Axes>"
      ]
     },
     "metadata": {
      "needs_background": "light"
     },
     "output_type": "display_data"
    }
   ],
   "source": [
    "filt = (indian_food['prep_time'] >= 100)\n",
    "prep_time = indian_food.loc[~filt]\n",
    "plt.figure()\n",
    "sns.histplot(prep_time, x=\"prep_time\") # bins 25\n",
    "plt.title(\"Preparation time of indian dishes\", fontsize=15, loc='left', y=1.07)\n",
    "plt.xlabel(\"preparation time minutes\")\n",
    "plt.show()"
   ]
  },
  {
   "cell_type": "code",
   "execution_count": 36,
   "id": "intermediate-significance",
   "metadata": {},
   "outputs": [
    {
     "data": {
      "image/png": "[encoded data removed]",
      "text/plain": [
       "<Figure size 432x288 with 1 Axes>"
      ]
     },
     "metadata": {
      "needs_background": "light"
     },
     "output_type": "display_data"
    }
   ],
   "source": [
    "filt = (indian_food['prep_time'] >= 50)\n",
    "prep_time = indian_food.loc[~filt]\n",
    "plt.figure()\n",
    "sns.histplot(prep_time, x=\"prep_time\")\n",
    "plt.show()"
   ]
  },
  {
   "cell_type": "code",
   "execution_count": 93,
   "id": "promising-impossible",
   "metadata": {
    "scrolled": true
   },
   "outputs": [
    {
     "name": "stderr",
     "output_type": "stream",
     "text": [
      "C:\\Users\\keelji\\Anaconda3\\lib\\site-packages\\seaborn\\_decorators.py:43: FutureWarning: Pass the following variable as a keyword arg: x. From version 0.12, the only valid positional argument will be `data`, and passing other arguments without an explicit keyword will result in an error or misinterpretation.\n",
      "  FutureWarning\n"
     ]
    },
    {
     "data": {
      "image/png": "[encoded data removed]",
      "text/plain": [
       "<Figure size 576x288 with 1 Axes>"
      ]
     },
     "metadata": {
      "needs_background": "light"
     },
     "output_type": "display_data"
    }
   ],
   "source": [
    "plt.figure(figsize=(8,4))\n",
    "sns.boxplot(food['prep_time'], data=indian_food) #, color='magenta', palette='PuBuGn_r'\n",
    "plt.title(\"Boxplot for preparation time of Indian dishes\", fontsize=15, loc='left', y=1.07)\n",
    "plt.xlabel(\"preparation time minutes\", color='grey')\n",
    "#plt.xlim(0, 500)\n",
    "\n",
    "plt.show()"
   ]
  },
  {
   "cell_type": "code",
   "execution_count": 38,
   "id": "shaped-bankruptcy",
   "metadata": {},
   "outputs": [
    {
     "name": "stderr",
     "output_type": "stream",
     "text": [
      "C:\\Users\\keelji\\Anaconda3\\lib\\site-packages\\seaborn\\_decorators.py:43: FutureWarning: Pass the following variable as a keyword arg: x. From version 0.12, the only valid positional argument will be `data`, and passing other arguments without an explicit keyword will result in an error or misinterpretation.\n",
      "  FutureWarning\n"
     ]
    },
    {
     "data": {
      "text/plain": [
       "<AxesSubplot:xlabel='prep_time'>"
      ]
     },
     "execution_count": 38,
     "metadata": {},
     "output_type": "execute_result"
    },
    {
     "data": {
      "image/png": "[encoded data removed]",
      "text/plain": [
       "<Figure size 432x288 with 1 Axes>"
      ]
     },
     "metadata": {
      "needs_background": "light"
     },
     "output_type": "display_data"
    }
   ],
   "source": [
    "sns.violinplot(indian_food['prep_time'])"
   ]
  },
  {
   "cell_type": "code",
   "execution_count": 39,
   "id": "recreational-things",
   "metadata": {},
   "outputs": [
    {
     "data": {
      "text/plain": [
       "count    225.000000\n",
       "mean      35.386667\n",
       "std       76.241081\n",
       "min        5.000000\n",
       "25%       10.000000\n",
       "50%       10.000000\n",
       "75%       20.000000\n",
       "max      500.000000\n",
       "Name: prep_time, dtype: float64"
      ]
     },
     "execution_count": 39,
     "metadata": {},
     "output_type": "execute_result"
    }
   ],
   "source": [
    "indian_food['prep_time'].describe()"
   ]
  },
  {
   "cell_type": "code",
   "execution_count": 40,
   "id": "concerned-oasis",
   "metadata": {},
   "outputs": [
    {
     "name": "stderr",
     "output_type": "stream",
     "text": [
      "C:\\Users\\keelji\\Anaconda3\\lib\\site-packages\\seaborn\\_decorators.py:43: FutureWarning: Pass the following variable as a keyword arg: x. From version 0.12, the only valid positional argument will be `data`, and passing other arguments without an explicit keyword will result in an error or misinterpretation.\n",
      "  FutureWarning\n"
     ]
    },
    {
     "data": {
      "image/png": "[encoded data removed]",
      "text/plain": [
       "<Figure size 432x288 with 1 Axes>"
      ]
     },
     "metadata": {
      "needs_background": "light"
     },
     "output_type": "display_data"
    }
   ],
   "source": [
    "sns.boxplot(food['prep_time'], data=indian_food)\n",
    "plt.show()"
   ]
  },
  {
   "cell_type": "markdown",
   "id": "valid-eleven",
   "metadata": {},
   "source": [
    "## Number of ingredients"
   ]
  },
  {
   "cell_type": "code",
   "execution_count": 124,
   "id": "optimum-therapist",
   "metadata": {},
   "outputs": [
    {
     "data": {
      "text/plain": [
       "5     139\n",
       "4      40\n",
       "3      36\n",
       "2      20\n",
       "6      14\n",
       "7       2\n",
       "8       2\n",
       "9       1\n",
       "10      1\n",
       "Name: num_ingr, dtype: int64"
      ]
     },
     "execution_count": 124,
     "metadata": {},
     "output_type": "execute_result"
    }
   ],
   "source": [
    "indian_food['num_ingr'].value_counts()"
   ]
  },
  {
   "cell_type": "code",
   "execution_count": 120,
   "id": "classical-roller",
   "metadata": {},
   "outputs": [
    {
     "name": "stderr",
     "output_type": "stream",
     "text": [
      "C:\\Users\\keelji\\Anaconda3\\lib\\site-packages\\seaborn\\_decorators.py:43: FutureWarning: Pass the following variable as a keyword arg: x. From version 0.12, the only valid positional argument will be `data`, and passing other arguments without an explicit keyword will result in an error or misinterpretation.\n",
      "  FutureWarning\n"
     ]
    },
    {
     "data": {
      "image/png": "[encoded data removed]",
      "text/plain": [
       "<Figure size 432x288 with 1 Axes>"
      ]
     },
     "metadata": {
      "needs_background": "light"
     },
     "output_type": "display_data"
    }
   ],
   "source": [
    "sns.boxplot(indian_food['num_ingr'], data=indian_food)\n",
    "plt.show()"
   ]
  },
  {
   "cell_type": "code",
   "execution_count": 129,
   "id": "continued-tradition",
   "metadata": {},
   "outputs": [
    {
     "data": {
      "image/png": "[encoded data removed]",
      "text/plain": [
       "<Figure size 432x288 with 1 Axes>"
      ]
     },
     "metadata": {
      "needs_background": "light"
     },
     "output_type": "display_data"
    }
   ],
   "source": [
    "plt.figure()\n",
    "plt.title(\"Number of ingredients of indian dishes\", fontsize=15, loc='left', y=1.07)\n",
    "sns.histplot(prep_time, x=\"num_ingr\", bins=9)\n",
    "plt.xlabel(\"number of ingredients\")\n",
    "plt.show()"
   ]
  },
  {
   "cell_type": "code",
   "execution_count": 134,
   "id": "alone-disorder",
   "metadata": {},
   "outputs": [
    {
     "name": "stderr",
     "output_type": "stream",
     "text": [
      "C:\\Users\\keelji\\Anaconda3\\lib\\site-packages\\seaborn\\_decorators.py:43: FutureWarning: Pass the following variable as a keyword arg: x. From version 0.12, the only valid positional argument will be `data`, and passing other arguments without an explicit keyword will result in an error or misinterpretation.\n",
      "  FutureWarning\n"
     ]
    },
    {
     "data": {
      "image/png": "[encoded data removed]",
      "text/plain": [
       "<Figure size 432x288 with 1 Axes>"
      ]
     },
     "metadata": {
      "needs_background": "light"
     },
     "output_type": "display_data"
    }
   ],
   "source": [
    "plt.figure()\n",
    "plt.text(x=4.7, y=4.7, s='Sepal Length vs Width', fontsize=16, weight='bold')\n",
    "plt.text(x=4.7, y=4.6, s='The size of each point corresponds to sepal width', fontsize=8, alpha=0.75)\n",
    "plt.title(\"Number of ingredients of indian dishes\", fontsize=15, loc='left', y=1.07)\n",
    "sns.violinplot(indian_food['num_ingr'])\n",
    "plt.xlabel(\"number of ingredients\")\n",
    "plt.show()"
   ]
  },
  {
   "cell_type": "code",
   "execution_count": null,
   "id": "fleet-incentive",
   "metadata": {},
   "outputs": [],
   "source": []
  }
 ],
 "metadata": {
  "kernelspec": {
   "display_name": "Python 3",
   "language": "python",
   "name": "python3"
  },
  "language_info": {
   "codemirror_mode": {
    "name": "ipython",
    "version": 3
   },
   "file_extension": ".py",
   "mimetype": "text/x-python",
   "name": "python",
   "nbconvert_exporter": "python",
   "pygments_lexer": "ipython3",
   "version": "3.7.9"
  }
 },
 "nbformat": 4,
 "nbformat_minor": 5
}
