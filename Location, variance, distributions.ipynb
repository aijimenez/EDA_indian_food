{
 "cells": [
  {
   "cell_type": "code",
   "execution_count": 1,
   "id": "brazilian-ranch",
   "metadata": {},
   "outputs": [],
   "source": [
    "import matplotlib.pyplot as plt\n",
    "import numpy as np\n",
    "import seaborn as sns\n",
    "import pandas as pd\n",
    "import statistics # for variance\n",
    "from scipy import stats # calculate trimmed mean\n",
    "\n",
    "pd.set_option('display.max_rows', 426)\n",
    "\n",
    "na_vals = ['-1', 1]\n",
    "indian_food = pd.read_csv(\"indian_food.csv\", na_values=na_vals)\n",
    "indian_food['ingredients'] = indian_food['ingredients'].apply(lambda x: x.lower())"
   ]
  },
  {
   "cell_type": "code",
   "execution_count": 2,
   "id": "durable-surgery",
   "metadata": {},
   "outputs": [],
   "source": [
    "indian_food['num_ingr'] = indian_food['ingredients'].apply(lambda x: len(x.split(',')))"
   ]
  },
  {
   "cell_type": "code",
   "execution_count": 3,
   "id": "registered-deployment",
   "metadata": {},
   "outputs": [
    {
     "data": {
      "text/html": [
       "<div>\n",
       "<style scoped>\n",
       "    .dataframe tbody tr th:only-of-type {\n",
       "        vertical-align: middle;\n",
       "    }\n",
       "\n",
       "    .dataframe tbody tr th {\n",
       "        vertical-align: top;\n",
       "    }\n",
       "\n",
       "    .dataframe thead th {\n",
       "        text-align: right;\n",
       "    }\n",
       "</style>\n",
       "<table border=\"1\" class=\"dataframe\">\n",
       "  <thead>\n",
       "    <tr style=\"text-align: right;\">\n",
       "      <th></th>\n",
       "      <th>name</th>\n",
       "      <th>ingredients</th>\n",
       "      <th>diet</th>\n",
       "      <th>prep_time</th>\n",
       "      <th>cook_time</th>\n",
       "      <th>flavor_profile</th>\n",
       "      <th>course</th>\n",
       "      <th>state</th>\n",
       "      <th>region</th>\n",
       "      <th>num_ingr</th>\n",
       "    </tr>\n",
       "  </thead>\n",
       "  <tbody>\n",
       "    <tr>\n",
       "      <th>0</th>\n",
       "      <td>Balu shahi</td>\n",
       "      <td>maida flour, yogurt, oil, sugar</td>\n",
       "      <td>vegetarian</td>\n",
       "      <td>45.0</td>\n",
       "      <td>25.0</td>\n",
       "      <td>sweet</td>\n",
       "      <td>dessert</td>\n",
       "      <td>West Bengal</td>\n",
       "      <td>East</td>\n",
       "      <td>4</td>\n",
       "    </tr>\n",
       "    <tr>\n",
       "      <th>1</th>\n",
       "      <td>Boondi</td>\n",
       "      <td>gram flour, ghee, sugar</td>\n",
       "      <td>vegetarian</td>\n",
       "      <td>80.0</td>\n",
       "      <td>30.0</td>\n",
       "      <td>sweet</td>\n",
       "      <td>dessert</td>\n",
       "      <td>Rajasthan</td>\n",
       "      <td>West</td>\n",
       "      <td>3</td>\n",
       "    </tr>\n",
       "  </tbody>\n",
       "</table>\n",
       "</div>"
      ],
      "text/plain": [
       "         name                      ingredients        diet  prep_time  \\\n",
       "0  Balu shahi  maida flour, yogurt, oil, sugar  vegetarian       45.0   \n",
       "1      Boondi          gram flour, ghee, sugar  vegetarian       80.0   \n",
       "\n",
       "   cook_time flavor_profile   course        state region  num_ingr  \n",
       "0       25.0          sweet  dessert  West Bengal   East         4  \n",
       "1       30.0          sweet  dessert    Rajasthan   West         3  "
      ]
     },
     "execution_count": 3,
     "metadata": {},
     "output_type": "execute_result"
    }
   ],
   "source": [
    "indian_food.head(2)"
   ]
  },
  {
   "cell_type": "code",
   "execution_count": 4,
   "id": "architectural-belief",
   "metadata": {},
   "outputs": [
    {
     "data": {
      "text/plain": [
       "name               object\n",
       "ingredients        object\n",
       "diet               object\n",
       "prep_time         float64\n",
       "cook_time         float64\n",
       "flavor_profile     object\n",
       "course             object\n",
       "state              object\n",
       "region             object\n",
       "num_ingr            int64\n",
       "dtype: object"
      ]
     },
     "execution_count": 4,
     "metadata": {},
     "output_type": "execute_result"
    }
   ],
   "source": [
    "indian_food.dtypes"
   ]
  },
  {
   "cell_type": "code",
   "execution_count": 5,
   "id": "productive-recognition",
   "metadata": {},
   "outputs": [
    {
     "data": {
      "text/html": [
       "<div>\n",
       "<style scoped>\n",
       "    .dataframe tbody tr th:only-of-type {\n",
       "        vertical-align: middle;\n",
       "    }\n",
       "\n",
       "    .dataframe tbody tr th {\n",
       "        vertical-align: top;\n",
       "    }\n",
       "\n",
       "    .dataframe thead th {\n",
       "        text-align: right;\n",
       "    }\n",
       "</style>\n",
       "<table border=\"1\" class=\"dataframe\">\n",
       "  <thead>\n",
       "    <tr style=\"text-align: right;\">\n",
       "      <th></th>\n",
       "      <th>prep_time</th>\n",
       "      <th>cook_time</th>\n",
       "      <th>num_ingr</th>\n",
       "    </tr>\n",
       "  </thead>\n",
       "  <tbody>\n",
       "    <tr>\n",
       "      <th>prep_time</th>\n",
       "      <td>1.000</td>\n",
       "      <td>0.111</td>\n",
       "      <td>-0.081</td>\n",
       "    </tr>\n",
       "    <tr>\n",
       "      <th>cook_time</th>\n",
       "      <td>0.111</td>\n",
       "      <td>1.000</td>\n",
       "      <td>-0.005</td>\n",
       "    </tr>\n",
       "    <tr>\n",
       "      <th>num_ingr</th>\n",
       "      <td>-0.081</td>\n",
       "      <td>-0.005</td>\n",
       "      <td>1.000</td>\n",
       "    </tr>\n",
       "  </tbody>\n",
       "</table>\n",
       "</div>"
      ],
      "text/plain": [
       "           prep_time  cook_time  num_ingr\n",
       "prep_time      1.000      0.111    -0.081\n",
       "cook_time      0.111      1.000    -0.005\n",
       "num_ingr      -0.081     -0.005     1.000"
      ]
     },
     "execution_count": 5,
     "metadata": {},
     "output_type": "execute_result"
    }
   ],
   "source": [
    "round(indian_food.corr(), 3)"
   ]
  },
  {
   "cell_type": "code",
   "execution_count": 6,
   "id": "affiliated-dynamics",
   "metadata": {},
   "outputs": [
    {
     "data": {
      "image/png": "[encoded data removed]",
      "text/plain": [
       "<Figure size 432x288 with 2 Axes>"
      ]
     },
     "metadata": {
      "needs_background": "light"
     },
     "output_type": "display_data"
    }
   ],
   "source": [
    "\n",
    "sns.heatmap(round(indian_food.corr(), 3), \n",
    "            cmap='RdBu', \n",
    "            center=0, \n",
    "            vmin=-1, vmax=1,\n",
    "            annot=True)\n",
    "\n",
    "plt.title(\"Correlation matrix of the variables in the Indian dishes dataset\", y=1.07)\n",
    "plt.yticks(rotation=360)\n",
    "\n",
    "plt.show()"
   ]
  },
  {
   "cell_type": "code",
   "execution_count": 7,
   "id": "digital-adventure",
   "metadata": {},
   "outputs": [
    {
     "data": {
      "image/png": "[encoded data removed]",
      "text/plain": [
       "<Figure size 504x360 with 2 Axes>"
      ]
     },
     "metadata": {},
     "output_type": "display_data"
    }
   ],
   "source": [
    "corr = round(indian_food.corr(), 3)\n",
    "\n",
    "mask = np.zeros_like(corr)\n",
    "\n",
    "mask[np.triu_indices_from(mask)] = True\n",
    "\n",
    "with sns.axes_style(\"white\"):\n",
    "\n",
    "    f, ax = plt.subplots(figsize=(7, 5))\n",
    "\n",
    "    ax = sns.heatmap(corr, mask=mask, cmap='RdBu', center=0, vmin=-1, vmax=1, square=True, annot=True)"
   ]
  },
  {
   "cell_type": "code",
   "execution_count": 13,
   "id": "associate-mining",
   "metadata": {},
   "outputs": [
    {
     "data": {
      "image/png": "[encoded data removed]",
      "text/plain": [
       "<Figure size 540x540 with 12 Axes>"
      ]
     },
     "metadata": {},
     "output_type": "display_data"
    }
   ],
   "source": [
    "sns.set_style('darkgrid')\n",
    "sns.pairplot(indian_food)\n",
    "plt.show()"
   ]
  },
  {
   "cell_type": "code",
   "execution_count": 16,
   "id": "selected-madrid",
   "metadata": {},
   "outputs": [
    {
     "name": "stderr",
     "output_type": "stream",
     "text": [
      "C:\\Users\\keelji\\Anaconda3\\lib\\site-packages\\seaborn\\distributions.py:306: UserWarning: Dataset has 0 variance; skipping density estimate.\n",
      "  warnings.warn(msg, UserWarning)\n",
      "C:\\Users\\keelji\\Anaconda3\\lib\\site-packages\\seaborn\\distributions.py:306: UserWarning: Dataset has 0 variance; skipping density estimate.\n",
      "  warnings.warn(msg, UserWarning)\n",
      "C:\\Users\\keelji\\Anaconda3\\lib\\site-packages\\seaborn\\distributions.py:306: UserWarning: Dataset has 0 variance; skipping density estimate.\n",
      "  warnings.warn(msg, UserWarning)\n",
      "C:\\Users\\keelji\\Anaconda3\\lib\\site-packages\\seaborn\\distributions.py:306: UserWarning: Dataset has 0 variance; skipping density estimate.\n",
      "  warnings.warn(msg, UserWarning)\n"
     ]
    },
    {
     "data": {
      "image/png": "[encoded data removed]",
      "text/plain": [
       "<Figure size 605.75x540 with 12 Axes>"
      ]
     },
     "metadata": {},
     "output_type": "display_data"
    }
   ],
   "source": [
    "sns.set_style('darkgrid')\n",
    "sns.pairplot(indian_food, hue='flavor_profile')\n",
    "plt.show()"
   ]
  },
  {
   "cell_type": "code",
   "execution_count": 12,
   "id": "generous-portfolio",
   "metadata": {},
   "outputs": [
    {
     "data": {
      "text/plain": [
       "name               object\n",
       "ingredients        object\n",
       "diet               object\n",
       "prep_time         float64\n",
       "cook_time         float64\n",
       "flavor_profile     object\n",
       "course             object\n",
       "state              object\n",
       "region             object\n",
       "num_ingr            int64\n",
       "dtype: object"
      ]
     },
     "execution_count": 12,
     "metadata": {},
     "output_type": "execute_result"
    }
   ],
   "source": [
    "indian_food.dtypes"
   ]
  },
  {
   "cell_type": "code",
   "execution_count": null,
   "id": "representative-bhutan",
   "metadata": {},
   "outputs": [],
   "source": [
    "indian_food['ingredients'].iloc[254]"
   ]
  },
  {
   "cell_type": "code",
   "execution_count": null,
   "id": "missing-retreat",
   "metadata": {},
   "outputs": [],
   "source": [
    "round(indian_food.describe(), 1)"
   ]
  },
  {
   "cell_type": "markdown",
   "id": "worth-abuse",
   "metadata": {},
   "source": [
    "### Cook_time"
   ]
  },
  {
   "cell_type": "code",
   "execution_count": null,
   "id": "coastal-tribute",
   "metadata": {},
   "outputs": [],
   "source": [
    "#Kernel density plot\n",
    "from sklearn.neighbors import KernelDensity\n",
    "from sklearn.model_selection import GridSearchCV"
   ]
  },
  {
   "cell_type": "code",
   "execution_count": null,
   "id": "respected-gentleman",
   "metadata": {},
   "outputs": [],
   "source": [
    "fig, (ax1, ax2) = plt.subplots(1,2)\n",
    "sns.histplot(indian_food, x=\"cook_time\", ax=ax1)\n",
    "ax2.axes.get_yaxis().set_visible(False)\n",
    "no_720 = (indian_food['cook_time'] == 720)\n",
    "food = indian_food.loc[~no_720]\n",
    "sns.histplot(food, x=\"cook_time\", ax=ax2, bins=15)\n",
    "plt.show()"
   ]
  },
  {
   "cell_type": "code",
   "execution_count": null,
   "id": "gross-swimming",
   "metadata": {},
   "outputs": [],
   "source": [
    "sns.histplot(food, x=\"cook_time\")"
   ]
  },
  {
   "cell_type": "code",
   "execution_count": null,
   "id": "passing-commerce",
   "metadata": {},
   "outputs": [],
   "source": [
    "#plot 1:\n",
    "plt.subplot(2, 2, 1)\n",
    "#the figure has 1 row, 2 columns, and this plot is the first plot. \n",
    "sns.histplot(indian_food, x=\"cook_time\")\n",
    "#plt.title(\"Histogram of Indian dishes\")\n",
    "plt.xlabel(\"cook time minutes\")\n",
    "#plt.grid(axis = 'y', alpha=0.3)\n",
    "\n",
    "#plot 2:\n",
    "plt.subplot(2, 2, 3)\n",
    "#the figure has 1 row, 2 columns, and this plot is the second plot. \n",
    "no_720 = (indian_food['cook_time'] == 720)\n",
    "food = indian_food.loc[~no_720]\n",
    "sns.histplot(food, x=\"cook_time\")\n",
    "#plt.title(\"Cook time histogram\")\n",
    "plt.xlabel(\"cook time minutes\")\n",
    "\n",
    "plt.suptitle(\"Cooking time of Indian dishes\")\n",
    "\n",
    "plt.subplot(2, 2, 4)\n",
    "sns.kdeplot(data=food, x='cook_time')\n",
    "#sns.boxplot(food['cook_time'], data=indian_food)\n",
    "\n",
    "plt.show()"
   ]
  },
  {
   "cell_type": "code",
   "execution_count": null,
   "id": "detailed-operations",
   "metadata": {},
   "outputs": [],
   "source": [
    "sns.kdeplot(data=food, x='cook_time')\n",
    "plt.show()"
   ]
  },
  {
   "cell_type": "code",
   "execution_count": null,
   "id": "baking-dancing",
   "metadata": {},
   "outputs": [],
   "source": [
    "#fig, ax = plt.subplots(2, 2)\n",
    "#fig.tight_layout()\n",
    "\n",
    "#plot 1:\n",
    "plt.subplot(2, 2, 1)\n",
    "#the figure has 1 row, 2 columns, and this plot is the first plot. \n",
    "sns.boxplot(indian_food['cook_time'], data=indian_food)\n",
    "#sns.histplot(indian_food, x=\"cook_time\")\n",
    "#plt.title(\"Histogram of Indian dishes\")\n",
    "plt.xlabel(\"cook time minutes\")\n",
    "#plt.grid(axis = 'y', alpha=0.3)\n",
    "\n",
    "#plot 2:\n",
    "plt.subplot(2, 2, 3)\n",
    "#the figure has 1 row, 2 columns, and this plot is the second plot. \n",
    "no_720 = (indian_food['cook_time'] == 720)\n",
    "food = indian_food.loc[~no_720]\n",
    "sns.histplot(food, x=\"cook_time\")\n",
    "#plt.title(\"Cook time histogram\")\n",
    "plt.xlabel(\"cook time minutes\")\n",
    "\n",
    "#plot 3:\n",
    "#plt.subplot(2, 2, 3)\n",
    "#sns.boxplot(food['cook_time'], data=indian_food)\n",
    "\n",
    "#plot 4:\n",
    "plt.subplot(2, 2, 4)\n",
    "sns.kdeplot(data=food, x='cook_time')\n",
    "#sns.boxplot(food['cook_time'], data=indian_food)\n",
    "\n",
    "\n",
    "plt.suptitle(\"Cooking time of Indian dishes\")\n",
    "fig.tight_layout()\n",
    "plt.show()"
   ]
  },
  {
   "cell_type": "code",
   "execution_count": null,
   "id": "adult-surrey",
   "metadata": {},
   "outputs": [],
   "source": [
    "import matplotlib.pylab as pl\n",
    "import matplotlib.gridspec as gridspec\n",
    "\n",
    "# Create 2x2 sub plots\n",
    "gs = gridspec.GridSpec(2, 2)\n",
    "\n",
    "pl.figure()\n",
    "\n",
    "ax = pl.subplot(gs[0, :]) # row 1, span all columns\n",
    "sns.boxplot(indian_food['cook_time'], data=indian_food)\n",
    "\n",
    "ax = pl.subplot(gs[1, 0]) # row 0, col 0\n",
    "no_720 = (indian_food['cook_time'] == 720)\n",
    "food = indian_food.loc[~no_720]\n",
    "sns.histplot(food, x=\"cook_time\")\n",
    "\n",
    "ax = pl.subplot(gs[1, 1]) # row 0, col 1\n",
    "sns.kdeplot(data=food, x='cook_time')\n",
    "\n",
    "plt.suptitle(\"Cooking time of indian dishes\")\n",
    "plt.show()"
   ]
  },
  {
   "cell_type": "code",
   "execution_count": null,
   "id": "artificial-public",
   "metadata": {},
   "outputs": [],
   "source": [
    "sns.kdeplot(data=indian_food, x='cook_time')\n",
    "plt.show()"
   ]
  },
  {
   "cell_type": "code",
   "execution_count": null,
   "id": "divided-large",
   "metadata": {},
   "outputs": [],
   "source": [
    "sns.boxplot(indian_food['cook_time'], data=indian_food)\n",
    "plt.show()"
   ]
  },
  {
   "cell_type": "code",
   "execution_count": null,
   "id": "english-russian",
   "metadata": {},
   "outputs": [],
   "source": [
    "sns.violinplot(indian_food['cook_time'])"
   ]
  },
  {
   "cell_type": "code",
   "execution_count": null,
   "id": "fixed-youth",
   "metadata": {},
   "outputs": [],
   "source": [
    "indian_food['cook_time'].describe()"
   ]
  },
  {
   "cell_type": "code",
   "execution_count": null,
   "id": "bigger-guarantee",
   "metadata": {},
   "outputs": [],
   "source": [
    "statistics.variance(indian_food['cook_time'])"
   ]
  },
  {
   "cell_type": "code",
   "execution_count": null,
   "id": "renewable-momentum",
   "metadata": {},
   "outputs": [],
   "source": [
    "indian_food['cook_time'].median()"
   ]
  },
  {
   "cell_type": "code",
   "execution_count": null,
   "id": "promising-sensitivity",
   "metadata": {},
   "outputs": [],
   "source": [
    "indian_food['cook_time'].mode()"
   ]
  },
  {
   "cell_type": "code",
   "execution_count": null,
   "id": "graduate-suspension",
   "metadata": {},
   "outputs": [],
   "source": [
    "type(indian_food['cook_time'])"
   ]
  },
  {
   "cell_type": "code",
   "execution_count": null,
   "id": "appropriate-orlando",
   "metadata": {},
   "outputs": [],
   "source": [
    "cook_time = indian_food['cook_time'].to_numpy()\n",
    "#cook_time"
   ]
  },
  {
   "cell_type": "code",
   "execution_count": null,
   "id": "failing-violation",
   "metadata": {},
   "outputs": [],
   "source": [
    "stats.trim_mean(indian_food['cook_time'], .11)"
   ]
  },
  {
   "cell_type": "code",
   "execution_count": null,
   "id": "fresh-gardening",
   "metadata": {},
   "outputs": [],
   "source": [
    "stats.trim_mean(cook_time, .2)"
   ]
  },
  {
   "cell_type": "code",
   "execution_count": null,
   "id": "extended-notion",
   "metadata": {},
   "outputs": [],
   "source": [
    "no_720 = (indian_food['cook_time'] == 720)\n",
    "food = indian_food.loc[~no_720]"
   ]
  },
  {
   "cell_type": "code",
   "execution_count": null,
   "id": "united-valuation",
   "metadata": {},
   "outputs": [],
   "source": [
    "food['cook_time'].describe()"
   ]
  },
  {
   "cell_type": "code",
   "execution_count": null,
   "id": "infrared-processor",
   "metadata": {},
   "outputs": [],
   "source": [
    "food['cook_time'].median()"
   ]
  },
  {
   "cell_type": "code",
   "execution_count": null,
   "id": "later-radical",
   "metadata": {},
   "outputs": [],
   "source": [
    "food['cook_time'].mode()"
   ]
  },
  {
   "cell_type": "code",
   "execution_count": null,
   "id": "mounted-activation",
   "metadata": {},
   "outputs": [],
   "source": [
    "plt.figure()\n",
    "sns.histplot(food, x=\"cook_time\")\n",
    "plt.show()"
   ]
  },
  {
   "cell_type": "code",
   "execution_count": null,
   "id": "herbal-lincoln",
   "metadata": {},
   "outputs": [],
   "source": [
    "sns.boxplot(food['cook_time'], data=indian_food)\n",
    "plt.show()"
   ]
  },
  {
   "cell_type": "markdown",
   "id": "natural-illinois",
   "metadata": {},
   "source": [
    "### Preparation time"
   ]
  },
  {
   "cell_type": "code",
   "execution_count": null,
   "id": "sapphire-holder",
   "metadata": {},
   "outputs": [],
   "source": [
    "bin_count = int(np.ceil(np.log2(255)) + 1)\n",
    "bin_count"
   ]
  },
  {
   "cell_type": "code",
   "execution_count": null,
   "id": "coupled-going",
   "metadata": {},
   "outputs": [],
   "source": [
    "plt.figure()\n",
    "sns.histplot(indian_food, x=\"prep_time\")\n",
    "plt.show()"
   ]
  },
  {
   "cell_type": "code",
   "execution_count": null,
   "id": "front-stake",
   "metadata": {},
   "outputs": [],
   "source": [
    "plt.figure(figsize=(9,5))\n",
    "sns.histplot(indian_food, x=\"prep_time\", bins= 50)\n",
    "plt.title(\"Histogram for the preparation time of indian dishes\", fontsize=15, loc='left', y=1.07)\n",
    "plt.xlabel(\"preparation time minutes\")\n",
    "plt.xlim(0, 510)\n",
    "\n",
    "plt.show()"
   ]
  },
  {
   "cell_type": "code",
   "execution_count": null,
   "id": "crude-infrared",
   "metadata": {},
   "outputs": [],
   "source": [
    "plt.figure(figsize=(10,5))\n",
    "sns.distplot(indian_food['prep_time'], kde = True)\n",
    "plt.title(\"Histogram for the preparation time of indian dishes\", fontsize=15, loc='left', y=1.07)\n",
    "plt.xlabel(\"preparation time minutes\")\n",
    "plt.xlim(0, 510)\n",
    "plt.show()"
   ]
  },
  {
   "cell_type": "code",
   "execution_count": null,
   "id": "compressed-story",
   "metadata": {},
   "outputs": [],
   "source": [
    "filt = (indian_food['prep_time'] >= 100)\n",
    "prep_time = indian_food.loc[~filt]\n",
    "plt.figure()\n",
    "sns.histplot(prep_time, x=\"prep_time\") # bins 25\n",
    "plt.title(\"Preparation time of indian dishes\", fontsize=15, loc='left', y=1.07)\n",
    "plt.xlabel(\"preparation time minutes\")\n",
    "plt.show()"
   ]
  },
  {
   "cell_type": "code",
   "execution_count": null,
   "id": "intermediate-significance",
   "metadata": {},
   "outputs": [],
   "source": [
    "filt = (indian_food['prep_time'] >= 50)\n",
    "prep_time = indian_food.loc[~filt]\n",
    "plt.figure()\n",
    "sns.histplot(prep_time, x=\"prep_time\")\n",
    "plt.show()"
   ]
  },
  {
   "cell_type": "code",
   "execution_count": null,
   "id": "promising-impossible",
   "metadata": {
    "scrolled": true
   },
   "outputs": [],
   "source": [
    "plt.figure(figsize=(8,4))\n",
    "sns.boxplot(food['prep_time'], data=indian_food) #, color='magenta', palette='PuBuGn_r'\n",
    "plt.title(\"Boxplot for preparation time of Indian dishes\", fontsize=15, loc='left', y=1.07)\n",
    "plt.xlabel(\"preparation time minutes\", color='grey')\n",
    "#plt.xlim(0, 500)\n",
    "\n",
    "plt.show()"
   ]
  },
  {
   "cell_type": "code",
   "execution_count": null,
   "id": "shaped-bankruptcy",
   "metadata": {},
   "outputs": [],
   "source": [
    "sns.violinplot(indian_food['prep_time'])"
   ]
  },
  {
   "cell_type": "code",
   "execution_count": null,
   "id": "recreational-things",
   "metadata": {},
   "outputs": [],
   "source": [
    "indian_food['prep_time'].describe()"
   ]
  },
  {
   "cell_type": "code",
   "execution_count": null,
   "id": "concerned-oasis",
   "metadata": {},
   "outputs": [],
   "source": [
    "sns.boxplot(food['prep_time'], data=indian_food)\n",
    "plt.show()"
   ]
  },
  {
   "cell_type": "markdown",
   "id": "valid-eleven",
   "metadata": {},
   "source": [
    "## Number of ingredients"
   ]
  },
  {
   "cell_type": "code",
   "execution_count": null,
   "id": "optimum-therapist",
   "metadata": {},
   "outputs": [],
   "source": [
    "indian_food['num_ingr'].value_counts()"
   ]
  },
  {
   "cell_type": "code",
   "execution_count": null,
   "id": "classical-roller",
   "metadata": {},
   "outputs": [],
   "source": [
    "sns.boxplot(indian_food['num_ingr'], data=indian_food)\n",
    "plt.show()"
   ]
  },
  {
   "cell_type": "code",
   "execution_count": null,
   "id": "continued-tradition",
   "metadata": {},
   "outputs": [],
   "source": [
    "plt.figure()\n",
    "plt.title(\"Number of ingredients of indian dishes\", fontsize=15, loc='left', y=1.07)\n",
    "sns.histplot(prep_time, x=\"num_ingr\", bins=9)\n",
    "plt.xlabel(\"number of ingredients\")\n",
    "plt.show()"
   ]
  },
  {
   "cell_type": "code",
   "execution_count": null,
   "id": "alone-disorder",
   "metadata": {},
   "outputs": [],
   "source": [
    "plt.figure()\n",
    "plt.text(x=4.7, y=4.7, s='Sepal Length vs Width', fontsize=16, weight='bold')\n",
    "plt.text(x=4.7, y=4.6, s='The size of each point corresponds to sepal width', fontsize=8, alpha=0.75)\n",
    "plt.title(\"Number of ingredients of indian dishes\", fontsize=15, loc='left', y=1.07)\n",
    "sns.violinplot(indian_food['num_ingr'])\n",
    "plt.xlabel(\"number of ingredients\")\n",
    "plt.show()"
   ]
  },
  {
   "cell_type": "code",
   "execution_count": null,
   "id": "fleet-incentive",
   "metadata": {},
   "outputs": [],
   "source": []
  }
 ],
 "metadata": {
  "kernelspec": {
   "display_name": "Python 3",
   "language": "python",
   "name": "python3"
  },
  "language_info": {
   "codemirror_mode": {
    "name": "ipython",
    "version": 3
   },
   "file_extension": ".py",
   "mimetype": "text/x-python",
   "name": "python",
   "nbconvert_exporter": "python",
   "pygments_lexer": "ipython3",
   "version": "3.7.9"
  }
 },
 "nbformat": 4,
 "nbformat_minor": 5
}
