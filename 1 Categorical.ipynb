{
 "cells": [
  {
   "cell_type": "code",
   "execution_count": 1,
   "id": "unique-charity",
   "metadata": {},
   "outputs": [],
   "source": [
    "import matplotlib.pyplot as plt\n",
    "import numpy as np\n",
    "import seaborn as sns\n",
    "import pandas as pd\n",
    "import statistics # for variance\n",
    "from scipy import stats # calculate trimmed mean\n",
    "\n",
    "pd.set_option('display.max_rows', 426)\n",
    "\n",
    "na_vals = ['-1', 1]\n",
    "indian_food = pd.read_csv(\"indian_food.csv\", na_values=na_vals)\n",
    "indian_food['ingredients'] = indian_food['ingredients'].apply(lambda x: x.lower())"
   ]
  },
  {
   "cell_type": "code",
   "execution_count": 2,
   "id": "mobile-species",
   "metadata": {},
   "outputs": [],
   "source": [
    "indian_food['num_ingr'] = indian_food['ingredients'].apply(lambda x: len(x.split(',')))"
   ]
  },
  {
   "cell_type": "code",
   "execution_count": 3,
   "id": "extreme-costume",
   "metadata": {},
   "outputs": [
    {
     "data": {
      "text/html": [
       "<div>\n",
       "<style scoped>\n",
       "    .dataframe tbody tr th:only-of-type {\n",
       "        vertical-align: middle;\n",
       "    }\n",
       "\n",
       "    .dataframe tbody tr th {\n",
       "        vertical-align: top;\n",
       "    }\n",
       "\n",
       "    .dataframe thead th {\n",
       "        text-align: right;\n",
       "    }\n",
       "</style>\n",
       "<table border=\"1\" class=\"dataframe\">\n",
       "  <thead>\n",
       "    <tr style=\"text-align: right;\">\n",
       "      <th></th>\n",
       "      <th>name</th>\n",
       "      <th>ingredients</th>\n",
       "      <th>diet</th>\n",
       "      <th>prep_time</th>\n",
       "      <th>cook_time</th>\n",
       "      <th>flavor_profile</th>\n",
       "      <th>course</th>\n",
       "      <th>state</th>\n",
       "      <th>region</th>\n",
       "      <th>num_ingr</th>\n",
       "    </tr>\n",
       "  </thead>\n",
       "  <tbody>\n",
       "    <tr>\n",
       "      <th>0</th>\n",
       "      <td>Balu shahi</td>\n",
       "      <td>maida flour, yogurt, oil, sugar</td>\n",
       "      <td>vegetarian</td>\n",
       "      <td>45.0</td>\n",
       "      <td>25.0</td>\n",
       "      <td>sweet</td>\n",
       "      <td>dessert</td>\n",
       "      <td>West Bengal</td>\n",
       "      <td>East</td>\n",
       "      <td>4</td>\n",
       "    </tr>\n",
       "    <tr>\n",
       "      <th>1</th>\n",
       "      <td>Boondi</td>\n",
       "      <td>gram flour, ghee, sugar</td>\n",
       "      <td>vegetarian</td>\n",
       "      <td>80.0</td>\n",
       "      <td>30.0</td>\n",
       "      <td>sweet</td>\n",
       "      <td>dessert</td>\n",
       "      <td>Rajasthan</td>\n",
       "      <td>West</td>\n",
       "      <td>3</td>\n",
       "    </tr>\n",
       "  </tbody>\n",
       "</table>\n",
       "</div>"
      ],
      "text/plain": [
       "         name                      ingredients        diet  prep_time  \\\n",
       "0  Balu shahi  maida flour, yogurt, oil, sugar  vegetarian       45.0   \n",
       "1      Boondi          gram flour, ghee, sugar  vegetarian       80.0   \n",
       "\n",
       "   cook_time flavor_profile   course        state region  num_ingr  \n",
       "0       25.0          sweet  dessert  West Bengal   East         4  \n",
       "1       30.0          sweet  dessert    Rajasthan   West         3  "
      ]
     },
     "execution_count": 3,
     "metadata": {},
     "output_type": "execute_result"
    }
   ],
   "source": [
    "indian_food.head(2)"
   ]
  },
  {
   "cell_type": "markdown",
   "id": "spectacular-familiar",
   "metadata": {},
   "source": [
    "### Ingredients\n",
    "* Most used ingredient\n",
    "* Number of ingredients"
   ]
  },
  {
   "cell_type": "code",
   "execution_count": 4,
   "id": "ecological-square",
   "metadata": {},
   "outputs": [
    {
     "data": {
      "image/png": "[encoded data removed]",
      "text/plain": [
       "<Figure size 432x288 with 1 Axes>"
      ]
     },
     "metadata": {
      "needs_background": "light"
     },
     "output_type": "display_data"
    }
   ],
   "source": [
    "plt.figure()\n",
    "sns.histplot(indian_food, x=\"num_ingr\", bins =9)\n",
    "plt.show()"
   ]
  },
  {
   "cell_type": "markdown",
   "id": "streaming-worth",
   "metadata": {},
   "source": [
    "### Diet"
   ]
  },
  {
   "cell_type": "code",
   "execution_count": 5,
   "id": "simplified-renaissance",
   "metadata": {},
   "outputs": [
    {
     "data": {
      "text/plain": [
       "vegetarian        226\n",
       "non vegetarian     29\n",
       "Name: diet, dtype: int64"
      ]
     },
     "execution_count": 5,
     "metadata": {},
     "output_type": "execute_result"
    }
   ],
   "source": [
    "indian_food['diet'].value_counts()"
   ]
  },
  {
   "cell_type": "code",
   "execution_count": 6,
   "id": "broken-turtle",
   "metadata": {},
   "outputs": [
    {
     "data": {
      "image/png": "[encoded data removed]",
      "text/plain": [
       "<Figure size 432x288 with 1 Axes>"
      ]
     },
     "metadata": {
      "needs_background": "light"
     },
     "output_type": "display_data"
    }
   ],
   "source": [
    "plt.figure()\n",
    "sns.countplot(y='diet', data=indian_food, \n",
    "              order = indian_food['diet'].value_counts().index)\n",
    "plt.show()"
   ]
  },
  {
   "cell_type": "code",
   "execution_count": 7,
   "id": "expired-credit",
   "metadata": {},
   "outputs": [],
   "source": [
    "def count_cat(size=None, ):\n",
    "    plt.figure(size)\n",
    "    sns.countplot()"
   ]
  },
  {
   "cell_type": "markdown",
   "id": "clear-train",
   "metadata": {},
   "source": [
    "### Flavor"
   ]
  },
  {
   "cell_type": "code",
   "execution_count": 8,
   "id": "signal-companion",
   "metadata": {},
   "outputs": [
    {
     "data": {
      "text/plain": [
       "spicy     133\n",
       "sweet      88\n",
       "bitter      4\n",
       "sour        1\n",
       "Name: flavor_profile, dtype: int64"
      ]
     },
     "execution_count": 8,
     "metadata": {},
     "output_type": "execute_result"
    }
   ],
   "source": [
    "indian_food['flavor_profile'].value_counts()"
   ]
  },
  {
   "cell_type": "code",
   "execution_count": 9,
   "id": "yellow-patient",
   "metadata": {},
   "outputs": [
    {
     "data": {
      "image/png": "[encoded data removed]",
      "text/plain": [
       "<Figure size 432x288 with 1 Axes>"
      ]
     },
     "metadata": {
      "needs_background": "light"
     },
     "output_type": "display_data"
    }
   ],
   "source": [
    "plt.figure()#figsize=(9,5)\n",
    "\n",
    "sns.countplot(x='flavor_profile', data=indian_food, \n",
    "              order = indian_food['flavor_profile'].value_counts().index, color='#2b8cbe')\n",
    "\n",
    "plt.title(\"Number of Indian dishes according to their flavour profile\", fontsize=12, y=1.07) #, loc='left'\n",
    "plt.xlabel(\"Flavor\")\n",
    "plt.ylabel(\"Number of dishes\")\n",
    "\n",
    "plt.show()"
   ]
  },
  {
   "cell_type": "code",
   "execution_count": 10,
   "id": "overhead-newcastle",
   "metadata": {},
   "outputs": [
    {
     "data": {
      "text/html": [
       "<div>\n",
       "<style scoped>\n",
       "    .dataframe tbody tr th:only-of-type {\n",
       "        vertical-align: middle;\n",
       "    }\n",
       "\n",
       "    .dataframe tbody tr th {\n",
       "        vertical-align: top;\n",
       "    }\n",
       "\n",
       "    .dataframe thead th {\n",
       "        text-align: right;\n",
       "    }\n",
       "</style>\n",
       "<table border=\"1\" class=\"dataframe\">\n",
       "  <thead>\n",
       "    <tr style=\"text-align: right;\">\n",
       "      <th></th>\n",
       "      <th>index</th>\n",
       "      <th>percent</th>\n",
       "    </tr>\n",
       "  </thead>\n",
       "  <tbody>\n",
       "    <tr>\n",
       "      <th>0</th>\n",
       "      <td>spicy</td>\n",
       "      <td>58.849558</td>\n",
       "    </tr>\n",
       "    <tr>\n",
       "      <th>1</th>\n",
       "      <td>sweet</td>\n",
       "      <td>38.938053</td>\n",
       "    </tr>\n",
       "    <tr>\n",
       "      <th>2</th>\n",
       "      <td>bitter</td>\n",
       "      <td>1.769912</td>\n",
       "    </tr>\n",
       "    <tr>\n",
       "      <th>3</th>\n",
       "      <td>sour</td>\n",
       "      <td>0.442478</td>\n",
       "    </tr>\n",
       "  </tbody>\n",
       "</table>\n",
       "</div>"
      ],
      "text/plain": [
       "    index    percent\n",
       "0   spicy  58.849558\n",
       "1   sweet  38.938053\n",
       "2  bitter   1.769912\n",
       "3    sour   0.442478"
      ]
     },
     "execution_count": 10,
     "metadata": {},
     "output_type": "execute_result"
    }
   ],
   "source": [
    "counts= indian_food['flavor_profile'].value_counts(normalize=True)\n",
    "per_flav = counts.mul(100).rename('percent').reset_index()\n",
    "per_flav"
   ]
  },
  {
   "cell_type": "code",
   "execution_count": 11,
   "id": "baking-athletics",
   "metadata": {},
   "outputs": [
    {
     "data": {
      "text/plain": [
       "(0.0, 60.0)"
      ]
     },
     "execution_count": 11,
     "metadata": {},
     "output_type": "execute_result"
    },
    {
     "data": {
      "image/png": "[encoded data removed]",
      "text/plain": [
       "<Figure size 360x360 with 1 Axes>"
      ]
     },
     "metadata": {
      "needs_background": "light"
     },
     "output_type": "display_data"
    }
   ],
   "source": [
    "g = sns.catplot(x='index', y='percent', kind='bar', \n",
    "                data=per_flav)\n",
    "g.ax.set_ylim(0,60)"
   ]
  },
  {
   "cell_type": "code",
   "execution_count": 12,
   "id": "republican-limit",
   "metadata": {},
   "outputs": [],
   "source": [
    "def plotting_percentages(df, col):\n",
    "    x= col\n",
    "    \n",
    "    # Temporary dataframe with percentage values\n",
    "    temp_df = df[x].value_counts(normalize=True)\n",
    "    temp_df = temp_df.mul(100).rename('percent').reset_index()\n",
    "\n",
    "    # Sort the column values for plotting    \n",
    "    order_list = list(df[col].unique())\n",
    "    order_list.sort()\n",
    "\n",
    "    # Plot the figure\n",
    "    sns.set(font_scale=1.5)\n",
    "    g = sns.catplot(x=x, y='percent',kind='bar', data=temp_df, \n",
    "                    height=8, aspect=2, order=order_list, legend_out=False)\n",
    "    g.ax.set_ylim(0,100)\n",
    "\n",
    "    # Loop through each bar in the graph and add the percentage value    \n",
    "    for p in g.ax.patches:\n",
    "        txt = str(p.get_height().round(1)) + '%'\n",
    "        txt_x = p.get_x() \n",
    "        txt_y = p.get_height()\n",
    "        g.ax.text(txt_x,txt_y,txt)\n",
    "        \n",
    "    # Set labels and title\n",
    "    plt.title(f'{col.title()} By Percent {target.title()}', \n",
    "              fontdict={'fontsize': 30})\n",
    "    plt.xlabel(f'{col.title()}', fontdict={'fontsize': 20})\n",
    "    plt.ylabel(f'{target.title()} Percentage', fontdict={'fontsize': 20})\n",
    "    plt.xticks(rotation=75)\n",
    "    return g"
   ]
  },
  {
   "cell_type": "code",
   "execution_count": 13,
   "id": "formal-testimony",
   "metadata": {},
   "outputs": [],
   "source": [
    "#plotting_percentages(indian_food, 'flavor_profile')"
   ]
  },
  {
   "cell_type": "code",
   "execution_count": 14,
   "id": "linear-postage",
   "metadata": {},
   "outputs": [],
   "source": [
    "type(indian_food['flavor_profile'].iloc[104])\n",
    "flavor_prof=[]\n",
    "for prof in indian_food['flavor_profile']:\n",
    "    if type(prof) != float:\n",
    "       flavor_prof.append(prof)\n",
    "    \n",
    "dfflavor_profile = pd.DataFrame(flavor_prof, columns =['flavor_profile'])\n",
    "#flavor_profile"
   ]
  },
  {
   "cell_type": "code",
   "execution_count": 15,
   "id": "private-harbor",
   "metadata": {},
   "outputs": [],
   "source": [
    "def without_nan(column, name_column):\n",
    "    \"\"\"\n",
    "    Crea una lista sin nan y la\n",
    "    transforma a data frame\n",
    "    \n",
    "    column: the column of the df\n",
    "    name_column: str nombre que recibe la columna\n",
    "    \"\"\"\n",
    "    new_list = []\n",
    "    for prof in column:\n",
    "        if type(prof) != float:\n",
    "            new_list.append(prof)\n",
    "    \n",
    "    return pd.DataFrame(new_list, columns =[name_column])\n",
    "\n",
    "df_flavor = without_nan(indian_food['flavor_profile'], 'flavor_profile')\n",
    "#df_flavor"
   ]
  },
  {
   "cell_type": "code",
   "execution_count": 16,
   "id": "august-given",
   "metadata": {},
   "outputs": [
    {
     "data": {
      "image/png": "[encoded data removed]",
      "text/plain": [
       "<Figure size 432x288 with 1 Axes>"
      ]
     },
     "metadata": {
      "needs_background": "light"
     },
     "output_type": "display_data"
    }
   ],
   "source": [
    "def plot_cat_var(column, name_column):\n",
    "    plt.figure()\n",
    "    sns.histplot(without_nan(column, name_column), x=name_column)\n",
    "    return plt.show()\n",
    "\n",
    "plot_cat_var(indian_food['flavor_profile'], 'flavor_profile')"
   ]
  },
  {
   "cell_type": "markdown",
   "id": "generous-vampire",
   "metadata": {},
   "source": [
    "### Course"
   ]
  },
  {
   "cell_type": "code",
   "execution_count": 17,
   "id": "other-walker",
   "metadata": {},
   "outputs": [
    {
     "data": {
      "text/plain": [
       "main course    129\n",
       "dessert         85\n",
       "snack           39\n",
       "starter          2\n",
       "Name: course, dtype: int64"
      ]
     },
     "execution_count": 17,
     "metadata": {},
     "output_type": "execute_result"
    }
   ],
   "source": [
    "indian_food['course'].value_counts()"
   ]
  },
  {
   "cell_type": "code",
   "execution_count": 18,
   "id": "amazing-sponsorship",
   "metadata": {},
   "outputs": [
    {
     "data": {
      "image/png": "[encoded data removed]",
      "text/plain": [
       "<Figure size 432x288 with 1 Axes>"
      ]
     },
     "metadata": {
      "needs_background": "light"
     },
     "output_type": "display_data"
    }
   ],
   "source": [
    "plt.figure()\n",
    "sns.countplot(y=\"course\", data=indian_food, \n",
    "              order = indian_food['course'].value_counts().index)\n",
    "plt.show()"
   ]
  },
  {
   "cell_type": "code",
   "execution_count": 19,
   "id": "sporting-moore",
   "metadata": {},
   "outputs": [
    {
     "data": {
      "image/png": "[encoded data removed]",
      "text/plain": [
       "<Figure size 432x288 with 1 Axes>"
      ]
     },
     "metadata": {
      "needs_background": "light"
     },
     "output_type": "display_data"
    }
   ],
   "source": [
    "plt.figure()\n",
    "sns.histplot(indian_food, x=\"course\")\n",
    "plt.show()"
   ]
  },
  {
   "cell_type": "markdown",
   "id": "excellent-glossary",
   "metadata": {},
   "source": [
    "### State"
   ]
  },
  {
   "cell_type": "code",
   "execution_count": 20,
   "id": "blind-enemy",
   "metadata": {},
   "outputs": [
    {
     "data": {
      "text/plain": [
       "Gujarat            35\n",
       "Punjab             32\n",
       "Maharashtra        30\n",
       "West Bengal        24\n",
       "Assam              21\n",
       "Tamil Nadu         20\n",
       "Andhra Pradesh     10\n",
       "Uttar Pradesh       9\n",
       "Kerala              8\n",
       "Odisha              7\n",
       "Karnataka           6\n",
       "Rajasthan           6\n",
       "Telangana           5\n",
       "Goa                 3\n",
       "Bihar               3\n",
       "Madhya Pradesh      2\n",
       "Manipur             2\n",
       "Jammu & Kashmir     2\n",
       "Uttarakhand         1\n",
       "Tripura             1\n",
       "Chhattisgarh        1\n",
       "NCT of Delhi        1\n",
       "Nagaland            1\n",
       "Haryana             1\n",
       "Name: state, dtype: int64"
      ]
     },
     "execution_count": 20,
     "metadata": {},
     "output_type": "execute_result"
    }
   ],
   "source": [
    "indian_food['state'].value_counts()"
   ]
  },
  {
   "cell_type": "code",
   "execution_count": 21,
   "id": "minimal-candy",
   "metadata": {},
   "outputs": [
    {
     "data": {
      "image/png": "[encoded data removed]",
      "text/plain": [
       "<Figure size 432x288 with 1 Axes>"
      ]
     },
     "metadata": {
      "needs_background": "light"
     },
     "output_type": "display_data"
    }
   ],
   "source": [
    "plot_cat_var(indian_food['state'], 'state')"
   ]
  },
  {
   "cell_type": "code",
   "execution_count": 29,
   "id": "polyphonic-dragon",
   "metadata": {},
   "outputs": [
    {
     "data": {
      "image/png": "[encoded data removed]",
      "text/plain": [
       "<Figure size 720x576 with 1 Axes>"
      ]
     },
     "metadata": {
      "needs_background": "light"
     },
     "output_type": "display_data"
    }
   ],
   "source": [
    "plt.figure(figsize=(10,8))\n",
    "sns.countplot(y=\"state\", data=indian_food, \n",
    "              order = indian_food['state'].value_counts().index, color='#2b8cbe')\n",
    "\n",
    "plt.title(\"Number of Indian dishes by state\", fontsize=15, y=1.03) #, loc='left'\n",
    "plt.xlabel(\"Number of dishes\")\n",
    "plt.ylabel(\"State\")\n",
    "\n",
    "plt.show()"
   ]
  },
  {
   "cell_type": "markdown",
   "id": "together-perception",
   "metadata": {},
   "source": [
    "### Region"
   ]
  },
  {
   "cell_type": "code",
   "execution_count": null,
   "id": "pressing-poland",
   "metadata": {},
   "outputs": [],
   "source": [
    "indian_food['region'].value_counts()"
   ]
  },
  {
   "cell_type": "code",
   "execution_count": null,
   "id": "weekly-married",
   "metadata": {},
   "outputs": [],
   "source": [
    "plot_cat_var(indian_food['region'], 'region')"
   ]
  },
  {
   "cell_type": "code",
   "execution_count": null,
   "id": "literary-shakespeare",
   "metadata": {},
   "outputs": [],
   "source": [
    "#fig, ax = plt.subplots(2, 2)\n",
    "#fig.tight_layout()\n",
    "\n",
    "#plot 2:\n",
    "plt.subplot(2, 2, 1)\n",
    "sns.countplot(y='diet', data=indian_food, \n",
    "              order = indian_food['diet'].value_counts().index)\n",
    "\n",
    "#plot 3:\n",
    "plt.subplot(2, 2, 2)\n",
    "sns.countplot(y='flavor_profile', data=indian_food, \n",
    "              order = indian_food['flavor_profile'].value_counts().index)\n",
    "\n",
    "#plot 4:\n",
    "plt.subplot(2, 2, 3)\n",
    "sns.countplot(y=\"course\", data=indian_food, \n",
    "              order = indian_food['course'].value_counts().index)\n",
    "\n",
    "#plot 5:\n",
    "plt.subplot(2, 2, 4)\n",
    "sns.countplot(y=\"region\", data=indian_food, \n",
    "              order = indian_food['region'].value_counts().index)\n",
    "\n",
    "plt.suptitle(\"Indian dishes data set\")\n",
    "plt.show()"
   ]
  },
  {
   "cell_type": "code",
   "execution_count": null,
   "id": "lovely-liberal",
   "metadata": {},
   "outputs": [],
   "source": []
  }
 ],
 "metadata": {
  "kernelspec": {
   "display_name": "Python 3",
   "language": "python",
   "name": "python3"
  },
  "language_info": {
   "codemirror_mode": {
    "name": "ipython",
    "version": 3
   },
   "file_extension": ".py",
   "mimetype": "text/x-python",
   "name": "python",
   "nbconvert_exporter": "python",
   "pygments_lexer": "ipython3",
   "version": "3.7.9"
  }
 },
 "nbformat": 4,
 "nbformat_minor": 5
}
