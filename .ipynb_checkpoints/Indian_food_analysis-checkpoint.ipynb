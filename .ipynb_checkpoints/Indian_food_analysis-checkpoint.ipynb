{
 "cells": [
  {
   "cell_type": "code",
   "execution_count": null,
   "id": "convenient-petersburg",
   "metadata": {},
   "outputs": [],
   "source": [
    "import matplotlib.pyplot as plt\n",
    "import numpy as np\n",
    "import seaborn as sns\n",
    "import pandas as pd\n",
    "\n",
    "indian_food = pd.read_csv(\"indian_food.csv\")"
   ]
  },
  {
   "cell_type": "code",
   "execution_count": null,
   "id": "formed-brighton",
   "metadata": {},
   "outputs": [],
   "source": [
    "indian_food.shape"
   ]
  },
  {
   "cell_type": "code",
   "execution_count": null,
   "id": "twenty-bidding",
   "metadata": {
    "scrolled": true
   },
   "outputs": [],
   "source": [
    "indian_food.info()"
   ]
  },
  {
   "cell_type": "code",
   "execution_count": null,
   "id": "neutral-cattle",
   "metadata": {},
   "outputs": [],
   "source": [
    "indian_food.tail(20)"
   ]
  },
  {
   "cell_type": "code",
   "execution_count": null,
   "id": "coastal-medline",
   "metadata": {},
   "outputs": [],
   "source": [
    "pre_time = indian_food['prep_time']\n",
    "pre_time.head(2)"
   ]
  },
  {
   "cell_type": "code",
   "execution_count": null,
   "id": "valid-shakespeare",
   "metadata": {},
   "outputs": [],
   "source": [
    "indian_food['prep_time'].value_counts()"
   ]
  },
  {
   "cell_type": "code",
   "execution_count": null,
   "id": "arbitrary-mixture",
   "metadata": {},
   "outputs": [],
   "source": [
    "plt.figure()\n",
    "sns.histplot(indian_food, x=\"prep_time\", bins=10)\n",
    "plt.show()"
   ]
  },
  {
   "cell_type": "code",
   "execution_count": null,
   "id": "appreciated-cornwall",
   "metadata": {},
   "outputs": [],
   "source": [
    "filt = (indian_food['prep_time'] >= 50) | (indian_food['prep_time'] == -1)\n",
    "prep_time = indian_food.loc[~filt]\n",
    "plt.figure()\n",
    "sns.histplot(prep_time, x=\"prep_time\", bins=10)\n",
    "plt.show()"
   ]
  },
  {
   "cell_type": "code",
   "execution_count": null,
   "id": "copyrighted-roberts",
   "metadata": {},
   "outputs": [],
   "source": [
    "filt = (indian_food['prep_time'] <= 50) | (indian_food['prep_time'] == -1)\n",
    "prep_time = indian_food.loc[~filt]\n",
    "plt.figure()\n",
    "sns.histplot(prep_time, x=\"prep_time\", bins=10)\n",
    "plt.show()"
   ]
  },
  {
   "cell_type": "code",
   "execution_count": null,
   "id": "headed-booking",
   "metadata": {},
   "outputs": [],
   "source": [
    "indian_food['cook_time'].value_counts()"
   ]
  },
  {
   "cell_type": "code",
   "execution_count": null,
   "id": "written-legislature",
   "metadata": {},
   "outputs": [],
   "source": [
    "plt.figure()\n",
    "sns.histplot(indian_food, x=\"cook_time\")\n",
    "plt.show()"
   ]
  },
  {
   "cell_type": "code",
   "execution_count": null,
   "id": "international-compression",
   "metadata": {},
   "outputs": [],
   "source": [
    "no_720 = (indian_food['cook_time'] == 720) | (indian_food['cook_time'] == -1)\n",
    "cook_time = indian_food.loc[~no_720]\n",
    "plt.figure()\n",
    "sns.histplot(cook_time, x=\"cook_time\", bins = 11)\n",
    "plt.show()"
   ]
  },
  {
   "cell_type": "code",
   "execution_count": null,
   "id": "bronze-gregory",
   "metadata": {},
   "outputs": [],
   "source": [
    "indian_food['flavor_profile'].value_counts()"
   ]
  },
  {
   "cell_type": "code",
   "execution_count": null,
   "id": "variable-musical",
   "metadata": {},
   "outputs": [],
   "source": [
    "plt.figure()\n",
    "sns.histplot(indian_food, x=\"flavor_profile\")\n",
    "plt.show()"
   ]
  },
  {
   "cell_type": "code",
   "execution_count": null,
   "id": "collect-messenger",
   "metadata": {},
   "outputs": [],
   "source": [
    "indian_food['diet'].value_counts()"
   ]
  },
  {
   "cell_type": "code",
   "execution_count": null,
   "id": "organized-plane",
   "metadata": {},
   "outputs": [],
   "source": [
    "plt.figure()\n",
    "sns.histplot(indian_food, x=\"diet\")\n",
    "plt.show()"
   ]
  },
  {
   "cell_type": "code",
   "execution_count": null,
   "id": "enclosed-chambers",
   "metadata": {},
   "outputs": [],
   "source": [
    "indian_food['course'].value_counts()"
   ]
  },
  {
   "cell_type": "code",
   "execution_count": null,
   "id": "placed-junior",
   "metadata": {},
   "outputs": [],
   "source": [
    "plt.figure()\n",
    "sns.histplot(indian_food, x=\"course\")\n",
    "plt.show()"
   ]
  },
  {
   "cell_type": "code",
   "execution_count": null,
   "id": "hired-headset",
   "metadata": {},
   "outputs": [],
   "source": [
    "plt.figure()\n",
    "sns.histplot(indian_food, x=\"state\", bins=10)\n",
    "plt.show()"
   ]
  },
  {
   "cell_type": "code",
   "execution_count": null,
   "id": "german-exercise",
   "metadata": {
    "scrolled": false
   },
   "outputs": [],
   "source": [
    "# plt.figure()\n",
    "# sns.histplot(indian_food, x=\"region\")\n",
    "# plt.show()"
   ]
  },
  {
   "cell_type": "code",
   "execution_count": null,
   "id": "permanent-conversation",
   "metadata": {},
   "outputs": [],
   "source": [
    "import json"
   ]
  },
  {
   "cell_type": "code",
   "execution_count": null,
   "id": "removed-withdrawal",
   "metadata": {},
   "outputs": [],
   "source": [
    "india_states = json.load(open(\"states_india.geojson\", \"r\"))"
   ]
  },
  {
   "cell_type": "code",
   "execution_count": null,
   "id": "miniature-reproduction",
   "metadata": {},
   "outputs": [],
   "source": [
    "#india_states['features'][0]"
   ]
  },
  {
   "cell_type": "code",
   "execution_count": null,
   "id": "numerical-breed",
   "metadata": {},
   "outputs": [],
   "source": [
    "indian_food.tail(2)"
   ]
  },
  {
   "cell_type": "code",
   "execution_count": null,
   "id": "statutory-equivalent",
   "metadata": {},
   "outputs": [],
   "source": [
    "state = indian_food.pivot_table(index = ['state'], aggfunc ='size')"
   ]
  },
  {
   "cell_type": "code",
   "execution_count": null,
   "id": "plastic-edward",
   "metadata": {},
   "outputs": [],
   "source": [
    "state.head(5)"
   ]
  },
  {
   "cell_type": "code",
   "execution_count": null,
   "id": "mediterranean-italian",
   "metadata": {},
   "outputs": [],
   "source": [
    "state.shape"
   ]
  },
  {
   "cell_type": "code",
   "execution_count": null,
   "id": "compatible-delay",
   "metadata": {},
   "outputs": [],
   "source": [
    "states = state.iloc[1:]\n",
    "states.shape"
   ]
  },
  {
   "cell_type": "code",
   "execution_count": null,
   "id": "changing-charlotte",
   "metadata": {},
   "outputs": [],
   "source": [
    "states.head(5)"
   ]
  },
  {
   "cell_type": "code",
   "execution_count": null,
   "id": "olympic-turkish",
   "metadata": {},
   "outputs": [],
   "source": [
    "type(states)"
   ]
  },
  {
   "cell_type": "code",
   "execution_count": null,
   "id": "pressed-interaction",
   "metadata": {},
   "outputs": [],
   "source": [
    "n_dishes = states.to_frame()\n",
    "type(n_dishes)"
   ]
  },
  {
   "cell_type": "code",
   "execution_count": null,
   "id": "julian-isaac",
   "metadata": {},
   "outputs": [],
   "source": [
    "n_dishes.shape"
   ]
  },
  {
   "cell_type": "code",
   "execution_count": null,
   "id": "headed-shopper",
   "metadata": {},
   "outputs": [],
   "source": [
    "n_dishes.reset_index(inplace=True)\n",
    "n_dishes"
   ]
  },
  {
   "cell_type": "code",
   "execution_count": null,
   "id": "moving-locking",
   "metadata": {},
   "outputs": [],
   "source": [
    "n_dishes = n_dishes.rename(columns = {0:'n_dishes'})\n",
    "n_dishes"
   ]
  },
  {
   "cell_type": "code",
   "execution_count": null,
   "id": "indoor-pregnancy",
   "metadata": {},
   "outputs": [],
   "source": [
    "india_states['features'][1]['properties']"
   ]
  },
  {
   "cell_type": "code",
   "execution_count": null,
   "id": "wrong-guatemala",
   "metadata": {},
   "outputs": [],
   "source": [
    "state_id_map= {}\n",
    "for feature in india_states['features']:\n",
    "    feature['id'] = feature['properties']['state_code']\n",
    "    state_id_map[feature['properties']['st_nm']] = feature['id']"
   ]
  },
  {
   "cell_type": "code",
   "execution_count": null,
   "id": "laden-sessions",
   "metadata": {},
   "outputs": [],
   "source": [
    "#state_id_map"
   ]
  },
  {
   "cell_type": "code",
   "execution_count": null,
   "id": "split-joyce",
   "metadata": {},
   "outputs": [],
   "source": [
    "n_dishes['id'] = n_dishes['state'].apply(lambda x: state_id_map[x])"
   ]
  },
  {
   "cell_type": "code",
   "execution_count": null,
   "id": "alert-liechtenstein",
   "metadata": {},
   "outputs": [],
   "source": [
    "n_dishes.head()"
   ]
  },
  {
   "cell_type": "code",
   "execution_count": null,
   "id": "fixed-coordinator",
   "metadata": {},
   "outputs": [],
   "source": [
    "import plotly.express as px\n",
    "import plotly.io as pio\n",
    "#pio.renderers.default = 'chromium'"
   ]
  },
  {
   "cell_type": "code",
   "execution_count": null,
   "id": "characteristic-terminal",
   "metadata": {},
   "outputs": [],
   "source": [
    "fig = px.choropleth(n_dishes, \n",
    "                    locations='id', \n",
    "                    geojson=india_states, \n",
    "                    color='n_dishes', \n",
    "                    scope='asia',\n",
    "                    hover_name='state',\n",
    "                    hover_data=['n_dishes'],\n",
    "                   color_continuous_scale=px.colors.diverging.BrBG)\n",
    "#fig.update_goes(fitbounds=\"locations\", visible=False)\n",
    "fig.show()"
   ]
  },
  {
   "cell_type": "code",
   "execution_count": null,
   "id": "moderate-orientation",
   "metadata": {},
   "outputs": [],
   "source": [
    "fig = px.choropleth_mapbox(n_dishes, \n",
    "                    locations='id', \n",
    "                    geojson=india_states, \n",
    "                    color='n_dishes', \n",
    "                    hover_name='state',\n",
    "                    hover_data=['n_dishes'],\n",
    "                    mapbox_style=\"carto-positron\",\n",
    "                    center={'lat':24, 'lon':78},\n",
    "                    zoom=3, opacity=0.7,\n",
    "                    title=\"Number of indian dishes by state\")\n",
    "fig.show()"
   ]
  },
  {
   "cell_type": "code",
   "execution_count": null,
   "id": "fossil-louisiana",
   "metadata": {},
   "outputs": [],
   "source": [
    "indian_food['ingredients']"
   ]
  },
  {
   "cell_type": "code",
   "execution_count": null,
   "id": "warming-kuwait",
   "metadata": {},
   "outputs": [],
   "source": [
    "indian_food.columns"
   ]
  },
  {
   "cell_type": "code",
   "execution_count": null,
   "id": "understanding-appraisal",
   "metadata": {},
   "outputs": [],
   "source": [
    "indian_food[['prep_time', 'cook_time']]"
   ]
  },
  {
   "cell_type": "code",
   "execution_count": null,
   "id": "intense-scottish",
   "metadata": {},
   "outputs": [],
   "source": [
    "indian_food.iloc[0]"
   ]
  },
  {
   "cell_type": "code",
   "execution_count": null,
   "id": "weird-routine",
   "metadata": {},
   "outputs": [],
   "source": [
    "indian_food.iloc[1:3]"
   ]
  },
  {
   "cell_type": "code",
   "execution_count": null,
   "id": "catholic-subdivision",
   "metadata": {},
   "outputs": [],
   "source": [
    "indian_food.iloc[1:3, -1]"
   ]
  },
  {
   "cell_type": "code",
   "execution_count": null,
   "id": "lucky-ceiling",
   "metadata": {},
   "outputs": [],
   "source": [
    "indian_food.iloc[[0, 2]]"
   ]
  },
  {
   "cell_type": "code",
   "execution_count": null,
   "id": "classical-accuracy",
   "metadata": {},
   "outputs": [],
   "source": [
    "indian_food.iloc[[0, 2], 1]"
   ]
  },
  {
   "cell_type": "code",
   "execution_count": null,
   "id": "environmental-senior",
   "metadata": {},
   "outputs": [],
   "source": [
    "indian_food.loc[[0, 2], ['name', 'state']]"
   ]
  },
  {
   "cell_type": "code",
   "execution_count": null,
   "id": "instructional-context",
   "metadata": {},
   "outputs": [],
   "source": [
    "indian_food.loc[0:3, 'flavor_profile':'state']"
   ]
  },
  {
   "cell_type": "code",
   "execution_count": null,
   "id": "liked-jonathan",
   "metadata": {},
   "outputs": [],
   "source": [
    "indian_food['state'].value_counts()"
   ]
  },
  {
   "cell_type": "code",
   "execution_count": null,
   "id": "elementary-apparatus",
   "metadata": {},
   "outputs": [],
   "source": [
    "filt_assam = (indian_food['state'] == 'Assam')"
   ]
  },
  {
   "cell_type": "code",
   "execution_count": null,
   "id": "right-kruger",
   "metadata": {},
   "outputs": [],
   "source": [
    "indian_food[indian_food['state'] == 'Assam']"
   ]
  },
  {
   "cell_type": "code",
   "execution_count": null,
   "id": "amended-nevada",
   "metadata": {},
   "outputs": [],
   "source": [
    "indian_food.loc[filt_assam]"
   ]
  },
  {
   "cell_type": "code",
   "execution_count": null,
   "id": "egyptian-hanging",
   "metadata": {},
   "outputs": [],
   "source": [
    "indian_food.loc[filt_assam, 'diet']"
   ]
  },
  {
   "cell_type": "code",
   "execution_count": null,
   "id": "brave-surveillance",
   "metadata": {},
   "outputs": [],
   "source": [
    "filt= (indian_food['diet'] == 'non vegetarian') & (indian_food['course'] == 'starter')\n",
    "indian_food.loc[filt]"
   ]
  },
  {
   "cell_type": "code",
   "execution_count": null,
   "id": "greek-seminar",
   "metadata": {},
   "outputs": [],
   "source": [
    "indian_food.head(2)"
   ]
  },
  {
   "cell_type": "code",
   "execution_count": null,
   "id": "egyptian-input",
   "metadata": {},
   "outputs": [],
   "source": [
    "filt= (indian_food['flavor_profile'] == 'sour') | (indian_food['prep_time'] == 500)\n",
    "indian_food.loc[filt]"
   ]
  },
  {
   "cell_type": "code",
   "execution_count": null,
   "id": "indian-filling",
   "metadata": {},
   "outputs": [],
   "source": [
    "text = 'LN1 2DW, DN21 5BJ, DN21 5B'\n",
    "number = len(text.split(','))\n",
    "number"
   ]
  },
  {
   "cell_type": "code",
   "execution_count": null,
   "id": "theoretical-olympus",
   "metadata": {},
   "outputs": [],
   "source": [
    "indian_food['num_ingr'] = indian_food['ingredients'].apply(lambda x: len(x.split(',')))\n",
    "indian_food"
   ]
  },
  {
   "cell_type": "code",
   "execution_count": null,
   "id": "beautiful-syracuse",
   "metadata": {},
   "outputs": [],
   "source": [
    "plt.figure()\n",
    "sns.histplot(indian_food, x=\"num_ingr\", bins=9)\n",
    "plt.show()"
   ]
  },
  {
   "cell_type": "code",
   "execution_count": null,
   "id": "secondary-trial",
   "metadata": {},
   "outputs": [],
   "source": [
    "indian_food['num_ingr'].value_counts()"
   ]
  },
  {
   "cell_type": "code",
   "execution_count": null,
   "id": "instructional-emphasis",
   "metadata": {},
   "outputs": [],
   "source": [
    "indian_food['ingredients']"
   ]
  },
  {
   "cell_type": "code",
   "execution_count": null,
   "id": "engaged-academy",
   "metadata": {},
   "outputs": [],
   "source": [
    "ingredients_lists = []\n",
    "for i in indian_food['ingredients']:\n",
    "    ingredients_lists.append(i.split(','))\n",
    "ingredients_lists"
   ]
  },
  {
   "cell_type": "code",
   "execution_count": null,
   "id": "choice-bristol",
   "metadata": {},
   "outputs": [],
   "source": [
    "ingredients = []\n",
    "for list in ingredients_lists:\n",
    "    for ingredient in list:\n",
    "        ingredients.append(ingredient)"
   ]
  },
  {
   "cell_type": "code",
   "execution_count": null,
   "id": "stretch-belle",
   "metadata": {},
   "outputs": [],
   "source": [
    "indian_food.columns"
   ]
  },
  {
   "cell_type": "code",
   "execution_count": null,
   "id": "impressive-raising",
   "metadata": {},
   "outputs": [],
   "source": [
    "indian_food['num_ingr'].sum()"
   ]
  },
  {
   "cell_type": "code",
   "execution_count": null,
   "id": "equivalent-maria",
   "metadata": {},
   "outputs": [],
   "source": [
    "len(ingredients)"
   ]
  },
  {
   "cell_type": "code",
   "execution_count": null,
   "id": "registered-triangle",
   "metadata": {},
   "outputs": [],
   "source": [
    "words = ['House', 'Dream', 'Tree', 'Tree', 'House', 'Sky', 'House']\n",
    "result = {}\n",
    "for word in set(words):\n",
    "    result[word] = words.count(word)\n",
    "result"
   ]
  },
  {
   "cell_type": "code",
   "execution_count": null,
   "id": "swiss-marriage",
   "metadata": {},
   "outputs": [],
   "source": [
    "new = pd.DataFrame(ingredients, columns=['ingr'])\n",
    "new.head()"
   ]
  },
  {
   "cell_type": "code",
   "execution_count": null,
   "id": "friendly-pacific",
   "metadata": {},
   "outputs": [],
   "source": [
    "plt.figure()\n",
    "sns.histplot(new, x=\"ingr\")\n",
    "plt.show()"
   ]
  },
  {
   "cell_type": "code",
   "execution_count": null,
   "id": "intensive-camera",
   "metadata": {},
   "outputs": [],
   "source": [
    "ingr = new.pivot_table(index = ['ingr'], aggfunc ='size')\n",
    "ingr"
   ]
  },
  {
   "cell_type": "code",
   "execution_count": null,
   "id": "polish-guide",
   "metadata": {},
   "outputs": [],
   "source": [
    "ingredients = ingr.to_frame()\n",
    "ingredients.reset_index(inplace=True)\n",
    "ingredients = ingredients.rename(columns = {0:'n_ingredients', 'ingr':'ingredient'})\n",
    "\n",
    "ingredients"
   ]
  },
  {
   "cell_type": "code",
   "execution_count": null,
   "id": "approximate-registration",
   "metadata": {},
   "outputs": [],
   "source": [
    "most_used = ingredients.nlargest(15, ['n_ingredients'])\n",
    "most_used"
   ]
  },
  {
   "cell_type": "code",
   "execution_count": null,
   "id": "artificial-lancaster",
   "metadata": {},
   "outputs": [],
   "source": [
    "type(most_used)"
   ]
  },
  {
   "cell_type": "code",
   "execution_count": null,
   "id": "confirmed-lingerie",
   "metadata": {},
   "outputs": [],
   "source": [
    "lest_used = ingredients.nsmallest(15, ['n_ingredients'])\n",
    "lest_used"
   ]
  },
  {
   "cell_type": "code",
   "execution_count": null,
   "id": "warming-timeline",
   "metadata": {},
   "outputs": [],
   "source": []
  }
 ],
 "metadata": {
  "kernelspec": {
   "display_name": "Python 3",
   "language": "python",
   "name": "python3"
  },
  "language_info": {
   "codemirror_mode": {
    "name": "ipython",
    "version": 3
   },
   "file_extension": ".py",
   "mimetype": "text/x-python",
   "name": "python",
   "nbconvert_exporter": "python",
   "pygments_lexer": "ipython3",
   "version": "3.7.9"
  }
 },
 "nbformat": 4,
 "nbformat_minor": 5
}
